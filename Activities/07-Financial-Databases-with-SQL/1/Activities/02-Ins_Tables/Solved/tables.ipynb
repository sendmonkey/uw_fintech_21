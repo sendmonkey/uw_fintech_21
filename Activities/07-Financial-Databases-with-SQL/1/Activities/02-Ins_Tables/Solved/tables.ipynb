{
  "cells": [
    {
      "cell_type": "code",
      "source": [
        "# Import modules\n",
        "import sqlalchemy as sql"
      ],
      "outputs": [],
      "execution_count": 1,
      "metadata": {}
    },
    {
      "cell_type": "code",
      "source": [
        "# Create a temporary sqlite database\n",
        "database_connection_string = 'sqlite:///'"
      ],
      "outputs": [],
      "execution_count": 2,
      "metadata": {}
    },
    {
      "cell_type": "code",
      "source": [
        "# Database connection object\n",
        "engine = sql.create_engine(database_connection_string, echo=True)"
      ],
      "outputs": [],
      "execution_count": 3,
      "metadata": {}
    },
    {
      "cell_type": "markdown",
      "source": [
        "## Create a SQL Table"
      ],
      "metadata": {}
    },
    {
      "cell_type": "code",
      "source": [
        "# Create a table with SQL syntax\n",
        "#   CREATE TABLE <table_name> (\n",
        "#     <column_name> <data_type>,\n",
        "#     <column_name> <data_type>,\n",
        "#     ...,\n",
        "#     <column_name> <data_type>\n",
        "#   )"
      ],
      "outputs": [],
      "execution_count": 4,
      "metadata": {}
    },
    {
      "cell_type": "code",
      "source": [
        "# Create a table with SQL syntax\n",
        "sql_statement = \"\"\"\n",
        "CREATE TABLE payments (\n",
        "  payment_id INT PRIMARY KEY,\n",
        "  mortgage_id INT,\n",
        "  customer_id INT,\n",
        "  payment INT,\n",
        "  payment_date DATE\n",
        ")\n",
        "\"\"\""
      ],
      "outputs": [],
      "execution_count": 5,
      "metadata": {}
    },
    {
      "cell_type": "code",
      "source": [
        "# Execute the SQL statement\n",
        "result = engine.execute(sql_statement)"
      ],
      "outputs": [
        {
          "output_type": "stream",
          "name": "stdout",
          "text": [
            "2021-04-12 15:52:06,029 INFO sqlalchemy.engine.base.Engine SELECT CAST('test plain returns' AS VARCHAR(60)) AS anon_1\n",
            "2021-04-12 15:52:06,030 INFO sqlalchemy.engine.base.Engine ()\n",
            "2021-04-12 15:52:06,031 INFO sqlalchemy.engine.base.Engine SELECT CAST('test unicode returns' AS VARCHAR(60)) AS anon_1\n",
            "2021-04-12 15:52:06,031 INFO sqlalchemy.engine.base.Engine ()\n",
            "2021-04-12 15:52:06,032 INFO sqlalchemy.engine.base.Engine \n",
            "CREATE TABLE payments (\n",
            "  payment_id INT PRIMARY KEY,\n",
            "  mortgage_id INT,\n",
            "  customer_id INT,\n",
            "  payment INT,\n",
            "  payment_date DATE\n",
            ")\n",
            "\n",
            "2021-04-12 15:52:06,033 INFO sqlalchemy.engine.base.Engine ()\n",
            "2021-04-12 15:52:06,033 INFO sqlalchemy.engine.base.Engine COMMIT\n"
          ]
        }
      ],
      "execution_count": 6,
      "metadata": {}
    },
    {
      "cell_type": "code",
      "source": [
        "# Get table names from the database\n",
        "engine.table_names()"
      ],
      "outputs": [
        {
          "output_type": "stream",
          "name": "stdout",
          "text": [
            "2021-04-12 15:52:07,100 INFO sqlalchemy.engine.base.Engine SELECT name FROM sqlite_master WHERE type='table' ORDER BY name\n",
            "2021-04-12 15:52:07,100 INFO sqlalchemy.engine.base.Engine ()\n"
          ]
        },
        {
          "output_type": "execute_result",
          "execution_count": 7,
          "data": {
            "text/plain": "['payments']"
          },
          "metadata": {}
        }
      ],
      "execution_count": 7,
      "metadata": {}
    },
    {
      "cell_type": "markdown",
      "source": [
        "## Insert Data into the Table"
      ],
      "metadata": {}
    },
    {
      "cell_type": "code",
      "source": [
        "# Syntax for SQL INSERT  statement\n",
        "# INSERT INTO table_name(colum1, column2, ...) VALUES (val, val, ...), (val, val, ...)"
      ],
      "outputs": [],
      "execution_count": null,
      "metadata": {}
    },
    {
      "cell_type": "code",
      "source": [
        "# Write the INSERT SQL query\n",
        "insert_data = \"\"\"\n",
        "    INSERT INTO payments(\"payment_id\", \"mortgage_id\", \"customer_id\", \"payment\", \"payment_date\")\n",
        "    VALUES (6530784, 530180, 0, 849, 2007-02-12), \n",
        "    (5332543, 625617, 1, 1116, 2007-10-21), (6633146, 588605, 2, 2465, 2002-06-22)\n",
        "    \"\"\""
      ],
      "outputs": [],
      "execution_count": 18,
      "metadata": {}
    },
    {
      "cell_type": "code",
      "source": [
        "# Execute the INSERT SQL statement\n",
        "engine.execute(insert_data)"
      ],
      "outputs": [
        {
          "output_type": "stream",
          "name": "stdout",
          "text": [
            "2021-04-12 16:15:21,630 INFO sqlalchemy.engine.base.Engine \n",
            "    INSERT INTO payments(\"payment_id\", \"mortgage_id\", \"customer_id\", \"payment\", \"payment_date\")\n",
            "    VALUES (6530784, 530180, 0, 849, 2007-02-12), \n",
            "    (5332543, 625617, 1, 1116, 2007-10-21), (6633146, 588605, 2, 2465, 2002-06-22)\n",
            "    \n",
            "2021-04-12 16:15:21,631 INFO sqlalchemy.engine.base.Engine ()\n",
            "2021-04-12 16:15:21,633 INFO sqlalchemy.engine.base.Engine COMMIT\n"
          ]
        },
        {
          "output_type": "execute_result",
          "execution_count": 19,
          "data": {
            "text/plain": "<sqlalchemy.engine.result.ResultProxy at 0x7fd6b9058610>"
          },
          "metadata": {}
        }
      ],
      "execution_count": 19,
      "metadata": {}
    },
    {
      "cell_type": "markdown",
      "source": [
        "## Read a SQL Table"
      ],
      "metadata": {}
    },
    {
      "cell_type": "code",
      "source": [
        "# The SQL syntax to read a database table\n",
        "# SELECT <columns> FROM <table_name>"
      ],
      "outputs": [],
      "execution_count": 20,
      "metadata": {}
    },
    {
      "cell_type": "code",
      "source": [
        "# Select all rows from the payments table\n",
        "sql_statement = \"SELECT * FROM payments\""
      ],
      "outputs": [],
      "execution_count": 21,
      "metadata": {}
    },
    {
      "cell_type": "code",
      "source": [
        "# Execute the SQL statement\n",
        "result = engine.execute(sql_statement)"
      ],
      "outputs": [
        {
          "output_type": "stream",
          "name": "stdout",
          "text": [
            "2021-04-12 16:15:38,502 INFO sqlalchemy.engine.base.Engine SELECT * FROM payments\n",
            "2021-04-12 16:15:38,503 INFO sqlalchemy.engine.base.Engine ()\n"
          ]
        }
      ],
      "execution_count": 22,
      "metadata": {}
    },
    {
      "cell_type": "code",
      "source": [
        "# Review the result object\n",
        "result"
      ],
      "outputs": [
        {
          "output_type": "execute_result",
          "execution_count": 25,
          "data": {
            "text/plain": "<sqlalchemy.engine.result.ResultProxy at 0x7fd6b8f5a050>"
          },
          "metadata": {}
        }
      ],
      "execution_count": 25,
      "metadata": {}
    },
    {
      "cell_type": "code",
      "source": [
        "# Print the results in the result object\n",
        "for row in result:\n",
        "    print(row)\n"
      ],
      "outputs": [
        {
          "output_type": "stream",
          "name": "stdout",
          "text": [
            "(6530784, 530180, 0, 849, 1993)\n",
            "(5332543, 625617, 1, 1116, 1976)\n",
            "(6633146, 588605, 2, 2465, 1974)\n"
          ]
        }
      ],
      "execution_count": 24,
      "metadata": {}
    },
    {
      "cell_type": "code",
      "source": [
        "# Alternative method using fetchall. The result object is cleared after it is read.\n",
        "# You will need to re-execute the sql statement again.\n",
        "\n",
        "# Execute sql statement\n",
        "result = engine.execute(sql_statement)\n",
        "\n",
        "# Review the data with the fetchall method\n",
        "result.fetchall()"
      ],
      "outputs": [
        {
          "output_type": "stream",
          "name": "stdout",
          "text": [
            "2021-04-12 16:25:56,972 INFO sqlalchemy.engine.base.Engine SELECT * FROM payments\n",
            "2021-04-12 16:25:56,973 INFO sqlalchemy.engine.base.Engine ()\n"
          ]
        },
        {
          "output_type": "execute_result",
          "execution_count": 26,
          "data": {
            "text/plain": "[(6530784, 530180, 0, 849, 1993),\n (5332543, 625617, 1, 1116, 1976),\n (6633146, 588605, 2, 2465, 1974)]"
          },
          "metadata": {}
        }
      ],
      "execution_count": 26,
      "metadata": {}
    },
    {
      "cell_type": "code",
      "source": [],
      "outputs": [],
      "execution_count": null,
      "metadata": {}
    }
  ],
  "metadata": {
    "kernelspec": {
      "display_name": "Python (dev)",
      "language": "python",
      "name": "dev"
    },
    "language_info": {
      "codemirror_mode": {
        "name": "ipython",
        "version": 3
      },
      "file_extension": ".py",
      "mimetype": "text/x-python",
      "name": "python",
      "nbconvert_exporter": "python",
      "pygments_lexer": "ipython3",
      "version": "3.7.7"
    },
    "nteract": {
      "version": "0.28.0"
    }
  },
  "nbformat": 4,
  "nbformat_minor": 4
}
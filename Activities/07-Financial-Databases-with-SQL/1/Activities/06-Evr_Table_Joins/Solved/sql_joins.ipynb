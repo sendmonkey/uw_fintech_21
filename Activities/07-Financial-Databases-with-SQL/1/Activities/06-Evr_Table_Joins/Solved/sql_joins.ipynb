{
 "cells": [
  {
   "cell_type": "markdown",
   "metadata": {},
   "source": [
    "# SQL Joins"
   ]
  },
  {
   "cell_type": "markdown",
   "metadata": {},
   "source": [
    "## Create the database"
   ]
  },
  {
   "cell_type": "code",
   "execution_count": 1,
   "metadata": {},
   "outputs": [],
   "source": [
    "# Import modules\n",
    "import sqlalchemy as sql"
   ]
  },
  {
   "cell_type": "code",
   "execution_count": 2,
   "metadata": {},
   "outputs": [],
   "source": [
    "# Database filepath\n",
    "database_connection_string = 'sqlite:///../Resources/bank_payments.db'"
   ]
  },
  {
   "cell_type": "code",
   "execution_count": 3,
   "metadata": {},
   "outputs": [],
   "source": [
    "# Database connection object\n",
    "engine = sql.create_engine(database_connection_string,echo=True)"
   ]
  },
  {
   "cell_type": "code",
   "execution_count": 4,
   "metadata": {},
   "outputs": [
    {
     "name": "stdout",
     "output_type": "stream",
     "text": [
      "2021-04-13 15:48:33,285 INFO sqlalchemy.engine.base.Engine SELECT CAST('test plain returns' AS VARCHAR(60)) AS anon_1\n",
      "2021-04-13 15:48:33,286 INFO sqlalchemy.engine.base.Engine ()\n",
      "2021-04-13 15:48:33,287 INFO sqlalchemy.engine.base.Engine SELECT CAST('test unicode returns' AS VARCHAR(60)) AS anon_1\n",
      "2021-04-13 15:48:33,287 INFO sqlalchemy.engine.base.Engine ()\n",
      "2021-04-13 15:48:33,288 INFO sqlalchemy.engine.base.Engine SELECT name FROM sqlite_master WHERE type='table' ORDER BY name\n",
      "2021-04-13 15:48:33,289 INFO sqlalchemy.engine.base.Engine ()\n"
     ]
    },
    {
     "data": {
      "text/plain": [
       "['banks', 'customer', 'payments']"
      ]
     },
     "execution_count": 4,
     "metadata": {},
     "output_type": "execute_result"
    }
   ],
   "source": [
    "# Get table names from the database\n",
    "engine.table_names()"
   ]
  },
  {
   "cell_type": "markdown",
   "metadata": {},
   "source": [
    "## Review the table data"
   ]
  },
  {
   "cell_type": "code",
   "execution_count": 5,
   "metadata": {},
   "outputs": [
    {
     "name": "stdout",
     "output_type": "stream",
     "text": [
      "2021-04-13 15:48:36,117 INFO sqlalchemy.engine.base.Engine SELECT * FROM banks\n",
      "2021-04-13 15:48:36,118 INFO sqlalchemy.engine.base.Engine ()\n"
     ]
    },
    {
     "data": {
      "text/plain": [
       "[('bank_id', 'bank_name', 'bank_routing_number'),\n",
       " (1, 'Bank of America', 198491827),\n",
       " (2, 'Wells Fargo', 629873495),\n",
       " (3, 'JPMorgan Chase', 2340903984),\n",
       " (4, 'Citigroup', 890123900),\n",
       " (5, 'TD Bank', 905192010),\n",
       " (6, 'Capital One', 184619239),\n",
       " (7, 'Ally Bank', 316289502),\n",
       " (8, 'Discover Bank', 639893944),\n",
       " (9, 'Bank of New York Mellon', 8734569384)]"
      ]
     },
     "execution_count": 5,
     "metadata": {},
     "output_type": "execute_result"
    }
   ],
   "source": [
    "# Review the banks table data\n",
    "banks_query = \"SELECT * FROM banks\"\n",
    "\n",
    "# Execute the sql query\n",
    "banks = engine.execute(banks_query)\n",
    "\n",
    "# List the results data\n",
    "list(banks)"
   ]
  },
  {
   "cell_type": "code",
   "execution_count": 7,
   "metadata": {
    "scrolled": true
   },
   "outputs": [
    {
     "name": "stdout",
     "output_type": "stream",
     "text": [
      "2021-04-13 15:48:59,309 INFO sqlalchemy.engine.base.Engine SELECT * FROM payments\n",
      "2021-04-13 15:48:59,310 INFO sqlalchemy.engine.base.Engine ()\n"
     ]
    },
    {
     "data": {
      "text/plain": [
       "[('payment_id', 'bank_number', 'bank_routing_number', 'customer_id'),\n",
       " (1, 9269877403, 905192010, 1),\n",
       " (2, 82888733522, 629873495, 2),\n",
       " (3, 20862689216, 905192010, 3),\n",
       " (4, 87342300762, 890123900, 4),\n",
       " (5, 32016806394, 629873495, 5),\n",
       " (6, 89178109018, 890123900, 6),\n",
       " (7, 11398000774, 2340903984, 7),\n",
       " (8, 22787074845, 890123900, 8),\n",
       " (9, 60706346980, 890123900, 9),\n",
       " (10, 12654009617, 184619239, 10),\n",
       " (11, 51632282614, 629873495, 11),\n",
       " (12, 68456483309, 905192010, 12),\n",
       " (13, 73015643543, 2340903984, 13),\n",
       " (14, 66653098136, 905192010, 14),\n",
       " (15, 73639983258, 184619239, 15),\n",
       " (16, 68191577695, 890123900, 16),\n",
       " (17, 1130813569, 890123900, 17),\n",
       " (18, 46731417034, 2340903984, 18),\n",
       " (19, 69004996851, 184619239, 19),\n",
       " (20, 75032806086, 905192010, 20),\n",
       " (21, 65612468052, 890123900, 21),\n",
       " (22, 76163431193, 629873495, 22),\n",
       " (23, 31125785634, 629873495, 23),\n",
       " (24, 64250427325, 184619239, 24),\n",
       " (25, 7284515287, 198491827, 25),\n",
       " (26, 36243682622, 2340903984, 26),\n",
       " (27, 6802893682, 629873495, 27),\n",
       " (28, 48975373191, 2340903984, 28),\n",
       " (29, 55317680318, 629873495, 29),\n",
       " (30, 6957425936, 905192010, 30),\n",
       " (31, 87596526571, 2340903984, 31),\n",
       " (32, 32237372412, 2340903984, 32),\n",
       " (33, 50668921877, 2340903984, 33),\n",
       " (34, 31905656087, 629873495, 34),\n",
       " (35, 76887338713, 2340903984, 35),\n",
       " (36, 53202638817, 890123900, 36),\n",
       " (37, 48862241090, 629873495, 37),\n",
       " (38, 16179523315, 890123900, 38),\n",
       " (39, 31525433090, 890123900, 39),\n",
       " (40, 86346682262, 905192010, 40),\n",
       " (41, 94169987556, 198491827, 41),\n",
       " (42, 15257433300, 629873495, 42),\n",
       " (43, 89793281199, 890123900, 43),\n",
       " (44, 61899463671, 905192010, 44),\n",
       " (45, 15097116063, 2340903984, 45),\n",
       " (46, 14287899182, 905192010, 46),\n",
       " (47, 50466419650, 2340903984, 47),\n",
       " (48, 13036169817, 905192010, 48),\n",
       " (49, 99461190391, 890123900, 49),\n",
       " (50, 46824584329, 905192010, 50),\n",
       " (51, 98733625849, 2340903984, 51),\n",
       " (52, 54406399670, 890123900, 52),\n",
       " (53, 23337525652, 890123900, 53),\n",
       " (54, 99135542058, 905192010, 54),\n",
       " (55, 79382904819, 198491827, 55),\n",
       " (56, 51891860969, 629873495, 56),\n",
       " (57, 967477448, 890123900, 57),\n",
       " (58, 43950731817, 198491827, 58),\n",
       " (59, 83587629692, 2340903984, 59),\n",
       " (60, 50677857318, 2340903984, 60),\n",
       " (61, 30030690448, 2340903984, 61),\n",
       " (62, 24846297310, 890123900, 62),\n",
       " (63, 97451406215, 2340903984, 63),\n",
       " (64, 76772259664, 184619239, 64),\n",
       " (65, 40622611365, 184619239, 65),\n",
       " (66, 22259674175, 890123900, 66),\n",
       " (67, 68396653143, 184619239, 67),\n",
       " (68, 30665947105, 2340903984, 68),\n",
       " (69, 64854709670, 905192010, 69),\n",
       " (70, 50770824681, 184619239, 70),\n",
       " (71, 77586925062, 629873495, 71),\n",
       " (72, 63409835848, 184619239, 72),\n",
       " (73, 48199192552, 198491827, 73),\n",
       " (74, 81986012181, 184619239, 74),\n",
       " (75, 25129785289, 629873495, 75),\n",
       " (76, 1895042747, 198491827, 76),\n",
       " (77, 84383348363, 890123900, 77),\n",
       " (78, 28339725980, 2340903984, 78),\n",
       " (79, 84018214168, 905192010, 79),\n",
       " (80, 76687857530, 905192010, 80),\n",
       " (81, 56872804020, 629873495, 81),\n",
       " (82, 81600174551, 184619239, 82),\n",
       " (83, 45952835629, 629873495, 83),\n",
       " (84, 76348348196, 890123900, 84),\n",
       " (85, 53314019780, 2340903984, 85),\n",
       " (86, 31145283096, 905192010, 86),\n",
       " (87, 21794275834, 184619239, 87),\n",
       " (88, 90101392782, 905192010, 88),\n",
       " (89, 56801480654, 184619239, 89),\n",
       " (90, 76630743188, 905192010, 90),\n",
       " (91, 74801502311, 890123900, 91),\n",
       " (92, 58818848296, 905192010, 92),\n",
       " (93, 53453433797, 890123900, 93),\n",
       " (94, 41788548337, 905192010, 94),\n",
       " (95, 44728748510, 905192010, 95),\n",
       " (96, 51737126284, 890123900, 96),\n",
       " (97, 5848472535, 629873495, 97),\n",
       " (98, 48749064404, 198491827, 98),\n",
       " (99, 93467025920, 166846533, 99),\n",
       " (100, 72002809830, 166846533, 100)]"
      ]
     },
     "execution_count": 7,
     "metadata": {},
     "output_type": "execute_result"
    }
   ],
   "source": [
    "# Review the banks table data\n",
    "payments_query = \"SELECT * FROM payments\"\n",
    "\n",
    "# Execute the sql query\n",
    "payments = engine.execute(payments_query)\n",
    "\n",
    "# List the results data\n",
    "list(payments)"
   ]
  },
  {
   "cell_type": "code",
   "execution_count": 17,
   "metadata": {
    "scrolled": true
   },
   "outputs": [
    {
     "name": "stdout",
     "output_type": "stream",
     "text": [
      "2021-04-13 16:29:38,738 INFO sqlalchemy.engine.base.Engine SELECT * FROM customer\n",
      "2021-04-13 16:29:38,739 INFO sqlalchemy.engine.base.Engine ()\n"
     ]
    },
    {
     "data": {
      "text/plain": [
       "[('customer_id', 'first_name', 'last_name', 'age', 'address', 'city', 'state', 'zip_code'),\n",
       " (1, 'Michael', 'Meyer', 24, '1021 Eddie Knolls Apt. 087', 'South Geraldton', 'RI', '43709'),\n",
       " (2, 'Cindy', 'Stephens', 23, '838 Brown Street', 'East Christina', 'MT', '7829'),\n",
       " (3, 'John', 'Jackson', 34, '5319 Candice Motorway', 'Adkinstown', 'AZ', '89721'),\n",
       " (4, 'Alexander', 'Martinez', 32, 'USNS Mosley', 'FPO', 'AA', '24673'),\n",
       " (5, 'John', 'Pugh', 36, '175 Sullivan Isle Suite 666', 'Brendanshire', 'KY', '25231'),\n",
       " (6, 'Ashley', 'Chan', 34, '108 Lee Parkway', 'Deborahberg', 'OK', '20955'),\n",
       " (7, 'Matthew', 'Kramer', 34, 'Unit 5957 Box 6186', 'DPO', 'AP', '74424'),\n",
       " (8, 'Tammy', 'Soto', 27, '23071 Renee Land', 'Jamieville', 'MO', '40734'),\n",
       " (9, 'Christopher', 'Kirby', 18, '1052 Edward Knoll Suite 288', 'New Regina', 'WY', '50805'),\n",
       " (10, 'Krystal', 'Huang', 21, '811 Linda Ridge Suite 074', 'Port Andrea', 'WY', '79992'),\n",
       " (11, 'Sandra', 'Jimenez', 34, 'Unit 8878 Box 9370', 'DPO', 'AA', '47704'),\n",
       " (12, 'Dawn', 'Black', 26, '253 Emily Union Apt. 809', 'Port Wendyside', 'NE', '10784'),\n",
       " (13, 'Christina', 'Henderson', 33, '2407 Gavin River', 'South Brittneyton', 'MT', '62396'),\n",
       " (14, 'Sheila', 'Foster', 33, '5360 Rebecca Circles', 'Josephchester', 'AZ', '51015'),\n",
       " (15, 'Marvin', 'Cruz', 25, '8667 Henderson Isle Suite 805', 'East Robertview', 'AR', '14934'),\n",
       " (16, 'Shannon', 'Thompson', 30, '49367 Perkins Burg Apt. 845', 'Michaelburgh', 'IA', '43200'),\n",
       " (17, 'Jessica', 'Brown', 33, '72547 John Village', 'Estesstad', 'ID', '41957'),\n",
       " (18, 'George', 'Scott', 36, '8882 Morales Mews', 'South Courtneybury', 'NH', '18411'),\n",
       " (19, 'Gregory', 'Green', 36, '4148 Mullen Mountain', 'Lake Mollychester', 'MD', '26998'),\n",
       " (20, 'Brooke', 'Armstrong', 33, 'PSC 4729, Box 2681', 'APO', 'AP', '65043'),\n",
       " (21, 'Bethany', 'Williams', 27, '4886 Mills Dale Suite 147', 'Justinmouth', 'AZ', '50230'),\n",
       " (22, 'Sherry', 'Mooney', 28, 'PSC 9039, Box 7200', 'APO', 'AP', '47690'),\n",
       " (23, 'Stephen', 'Guerrero', 20, '14009 Robin Burgs', 'Michaelborough', 'NV', '41397'),\n",
       " (24, 'Brandon', 'Lewis', 30, '9514 Andrea Heights', 'Port Williemouth', 'NJ', '10383'),\n",
       " (25, 'William', 'Morris', 20, '10016 Brianna Corners', 'Spencerborough', 'HI', '30578'),\n",
       " (26, 'Meredith', 'Turner', 34, '85625 Amanda Rest Apt. 602', 'Jessicamouth', 'VT', '79948'),\n",
       " (27, 'Dawn', 'Meyers', 29, '74311 Sandra Fork', 'Danielhaven', 'NJ', '74384'),\n",
       " (28, 'Frank', 'Morales', 30, '106 Jacobson Cape Suite 271', 'East Darren', 'OH', '22376'),\n",
       " (29, 'Rebecca', 'Robertson', 39, '630 Gallagher Springs Suite 091', 'Martinezton', 'CO', '97611'),\n",
       " (30, 'Nicholas', 'Brown', 29, '75960 Mcguire Prairie', 'Aprilhaven', 'AL', '80265'),\n",
       " (31, 'Vernon', 'Johnston', 24, '1410 Stevens Underpass Suite 213', 'Jefferymouth', 'NY', '51400'),\n",
       " (32, 'Sandra', 'Rodriguez', 28, '5761 Leslie Islands', 'Mendozachester', 'HI', '79939'),\n",
       " (33, 'Jennifer', 'Cooper', 26, '85295 Baker Loop Suite 699', 'Jonesland', 'NH', '72283'),\n",
       " (34, 'Adam', 'Jones', 32, '99630 Martin Throughway', 'West Timothybury', 'OH', '1931'),\n",
       " (35, 'Thomas', 'Hart', 19, 'USNV Henderson', 'FPO', 'AA', '89241'),\n",
       " (36, 'Keith', 'Thomas', 37, '705 Lisa Oval', 'Port Manuel', 'DC', '80060'),\n",
       " (37, 'Willie', 'Morris', 33, '5428 Kevin Ports Suite 214', 'New Stephanieborough', 'ID', '78160'),\n",
       " (38, 'Kelly', 'Joyce', 32, '165 Miller Crossing', 'Mariafurt', 'GA', '90387'),\n",
       " (39, 'Victoria', 'Romero', 19, '637 Greg Street', 'Robertton', 'CT', '49369'),\n",
       " (40, 'Denise', 'Hamilton', 30, '43956 Manuel Key', 'East Lindachester', 'AL', '86491'),\n",
       " (41, 'Mary', 'Rosales', 30, '50398 Chase Springs', 'North Nicholas', 'MD', '61035'),\n",
       " (42, 'Gregory', 'Myers', 36, '33233 Phillips Inlet Apt. 376', 'South Joshuafurt', 'TX', '34411'),\n",
       " (43, 'Kyle', 'Dean', 30, '92016 Allison Mission Apt. 998', 'New Tony', 'MD', '13709'),\n",
       " (44, 'Allison', 'Keith', 28, '4493 Erica Shore', 'North Travisshire', 'MD', '34943'),\n",
       " (45, 'Marisa', 'Schmitt', 31, '467 Durham Trafficway Apt. 930', 'Cristianhaven', 'ME', '48819'),\n",
       " (46, 'Mrs.', 'Abigail', 25, '1171 Boyd Manors', 'Tuckertown', 'WI', '77834'),\n",
       " (47, 'Randy', 'Johnson', 24, '58221 Jennifer Corners Apt. 264', 'Williamside', 'OH', '23487'),\n",
       " (48, 'Michelle', 'Becker', 21, '0665 Robert Track', 'Port Anthonystad', 'MI', '48071'),\n",
       " (49, 'Taylor', 'Hill', 25, '700 John Hollow Apt. 501', 'Port Thomasland', 'WV', '26738'),\n",
       " (50, 'Amy', 'Dorsey', 38, '5695 Jacobs Streets Apt. 364', 'East Dennisfort', 'VT', '16334'),\n",
       " (51, 'Michael', 'Hendrix', 29, '74752 Baker Brooks Apt. 675', 'Brentstad', 'ID', '40066'),\n",
       " (52, 'Nancy', 'Bowman', 27, '32735 Smith Port Suite 901', 'New Jeffreyshire', 'TN', '88996'),\n",
       " (53, 'Andrea', 'Myers', 41, '8048 Nielsen Crescent', 'West Douglas', 'DE', '43315'),\n",
       " (54, 'Mike', 'Ward', 35, '8228 Lisa Hill', 'Port Ericbury', 'AK', '39672'),\n",
       " (55, 'Steven', 'Flores', 28, '33769 West Throughway Suite 135', 'Jamesport', 'FL', '11413'),\n",
       " (56, 'John', 'Rogers', 25, '3369 Todd Manors', 'North Amanda', 'KS', '64441'),\n",
       " (57, 'Angela', 'Johnson', 33, '97838 Ethan Crossroad', 'South Jacquelineside', 'VT', '39949'),\n",
       " (58, 'Meredith', 'Crawford', 30, '7293 Kristen Center Apt. 916', 'East Lisa', 'SD', '9925'),\n",
       " (59, 'Jon', 'Smith', 33, '698 Mcgee Dale', 'Jerryside', 'HI', '94831'),\n",
       " (60, 'Eugene', 'Klein', 36, '79575 Bennett Inlet', 'Davishaven', 'AK', '77171'),\n",
       " (61, 'Russell', 'Smith', 37, '4308 Leonard Islands', 'Matthewview', 'GA', '57971'),\n",
       " (62, 'Maria', 'Bennett', 23, '676 Jeffery Land', 'Courtneyberg', 'CA', '5181'),\n",
       " (63, 'Rebecca', 'Deleon', 36, '6546 Mark Pines', 'East Jacqueline', 'VA', '48381'),\n",
       " (64, 'Tiffany', 'Cook', 43, '80543 Tracy Spring Suite 371', 'Rodriguezshire', 'KY', '75101'),\n",
       " (65, 'Dr.', 'Joseph', 33, '017 Morton Bypass', 'Kaitlyntown', 'WI', '39081'),\n",
       " (66, 'Annette', 'Mcguire', 41, '55949 Anthony Trafficway Suite 183', 'Bakerhaven', 'IL', '94252'),\n",
       " (67, 'Jessica', 'Griffin', 27, '34521 Jamie Ports', 'South Michaelborough', 'MA', '50024'),\n",
       " (68, 'Susan', 'Campbell', 33, 'PSC 5128, Box 4968', 'APO', 'AP', '74933'),\n",
       " (69, 'Kyle', 'Thomas', 35, '4238 Ford Trail Apt. 072', 'Port Stephaniechester', 'MO', '81588'),\n",
       " (70, 'Valerie', 'Fisher', 33, '28669 Ruth Extensions', 'Lake Joseph', 'WV', '67044'),\n",
       " (71, 'Paul', 'Gonzales', 30, '86582 Michelle Canyon Apt. 962', 'South Alexander', 'NJ', '2064'),\n",
       " (72, 'Michele', 'Jones', 25, 'Unit 5247 Box 7057', 'DPO', 'AE', '78128'),\n",
       " (73, 'Rodney', 'Jennings', 36, '30710 Thomas Hollow', 'Stoneville', 'DE', '52909'),\n",
       " (74, 'Ray', 'Brown', 35, '3875 Ellen Lights Suite 733', 'North Gabriellafurt', 'MI', '67003'),\n",
       " (75, 'Amy', 'Castro', 40, '583 Rhonda Ranch Suite 447', 'New Billybury', 'ND', '34700'),\n",
       " (76, 'Blake', 'Williams', 26, '1656 Schultz Landing', 'Alexanderhaven', 'ND', '82448'),\n",
       " (77, 'James', 'Morales', 21, '937 Tammy Cliffs', 'Munozmouth', 'IN', '44121'),\n",
       " (78, 'Tracy', 'Pham', 27, '1849 Christian Way Suite 078', 'Hillshire', 'KY', '93291'),\n",
       " (79, 'William', 'Berger', 35, '506 Katrina Stravenue', 'East Michelle', 'AL', '9882'),\n",
       " (80, 'Suzanne', 'Miller', 31, '49737 Danielle Underpass Suite 871', 'Randallshire', 'MA', '88845'),\n",
       " (81, 'Michael', 'Miranda', 25, '4701 Cruz Springs Suite 485', 'South Ryanmouth', 'MI', '60410'),\n",
       " (82, 'Nancy', 'Andrews', 26, '300 Buckley Fall', 'Port Paulside', 'MI', '25420'),\n",
       " (83, 'Steven', 'Proctor', 35, '331 David Spur Apt. 611', 'South Lisa', 'KS', '54849'),\n",
       " (84, 'Madison', 'Murphy', 18, '58864 David Village', 'Port Kenneth', 'VA', '11644'),\n",
       " (85, 'Benjamin', 'Barry', 29, '2638 David Center', 'North Staceyshire', 'NH', '57682'),\n",
       " (86, 'Alexandra', 'Barton', 22, '1622 Anthony Bypass', 'Jasmineview', 'KY', '83980'),\n",
       " (87, 'April', 'Kim', 27, '68886 Sarah Locks Suite 156', 'New Jennifer', 'NM', '76605'),\n",
       " (88, 'Christopher', 'Baker', 30, '85213 Austin Harbors', 'Keyfurt', 'SD', '69451'),\n",
       " (89, 'Randall', 'Dean', 27, '2917 Sarah Rue', 'Smithchester', 'KS', '24349'),\n",
       " (90, 'Oscar', 'Flores', 35, '352 Nelson Ford', 'Houseport', 'GA', '94961'),\n",
       " (91, 'Mitchell', 'Spencer', 27, '4565 Harris Curve Suite 744', 'Richardshire', 'AL', '84498'),\n",
       " (92, 'Gary', 'Snyder', 30, '48040 Smith Ramp Suite 509', 'East Francesmouth', 'MA', '38003'),\n",
       " (93, 'Lisa', 'Armstrong', 32, '5083 Justin Cliffs', 'West Amy', 'WY', '8481'),\n",
       " (94, 'Jeremy', 'Norris', 32, '22734 Rivera Knolls Suite 040', 'Port Thomas', 'MO', '1673'),\n",
       " (95, 'Michael', 'Wheeler', 29, '403 Glenn Ville Suite 118', 'East Ericbury', 'OH', '11320'),\n",
       " (96, 'April', 'Ross', 34, '076 James Rapid Suite 654', 'West Jessica', 'MO', '42331'),\n",
       " (97, 'Jessica', 'Lynch', 30, 'USNS Andrews', 'FPO', 'AA', '17102'),\n",
       " (98, 'Donna', 'Bray', 34, '58964 April Knoll', 'Hendrixchester', 'MI', '31600'),\n",
       " (99, 'Carolyn', 'Williams', 34, '875 Rivas Alley', 'Butlerton', 'MA', '81141'),\n",
       " (100, 'Lee', 'Sweeney', 25, 'USCGC Caldwell', 'FPO', 'AA', '30090')]"
      ]
     },
     "execution_count": 17,
     "metadata": {},
     "output_type": "execute_result"
    }
   ],
   "source": [
    "# Review the customer table data\n",
    "customer_query = \"SELECT * FROM customer\"\n",
    "\n",
    "# Execute the sql query\n",
    "customer = engine.execute(customer_query)\n",
    "\n",
    "# List the results data\n",
    "list(customer)"
   ]
  },
  {
   "cell_type": "markdown",
   "metadata": {},
   "source": [
    "## Inner Joins"
   ]
  },
  {
   "cell_type": "code",
   "execution_count": 21,
   "metadata": {},
   "outputs": [],
   "source": [
    "# Join the banks and payments tables on the bank routing number\n",
    "sql_inner = \"\"\"\n",
    "SELECT *\n",
    "FROM payments\n",
    "INNER JOIN banks\n",
    "ON payments.bank_routing_number = banks.bank_routing_number\n",
    "\"\"\""
   ]
  },
  {
   "cell_type": "code",
   "execution_count": 22,
   "metadata": {},
   "outputs": [
    {
     "name": "stdout",
     "output_type": "stream",
     "text": [
      "2021-04-13 16:32:33,405 INFO sqlalchemy.engine.base.Engine \n",
      "SELECT *\n",
      "FROM payments\n",
      "JOIN banks\n",
      "ON payments.bank_routing_number = banks.bank_routing_number\n",
      "\n",
      "2021-04-13 16:32:33,406 INFO sqlalchemy.engine.base.Engine ()\n"
     ]
    }
   ],
   "source": [
    "# Execute the sql statement\n",
    "results = engine.execute(sql_inner)"
   ]
  },
  {
   "cell_type": "code",
   "execution_count": 23,
   "metadata": {
    "scrolled": true
   },
   "outputs": [
    {
     "data": {
      "text/plain": [
       "[('payment_id', 'bank_number', 'bank_routing_number', 'customer_id', 'bank_id', 'bank_name', 'bank_routing_number'),\n",
       " (1, 9269877403, 905192010, 1, 5, 'TD Bank', 905192010),\n",
       " (2, 82888733522, 629873495, 2, 2, 'Wells Fargo', 629873495),\n",
       " (3, 20862689216, 905192010, 3, 5, 'TD Bank', 905192010),\n",
       " (4, 87342300762, 890123900, 4, 4, 'Citigroup', 890123900),\n",
       " (5, 32016806394, 629873495, 5, 2, 'Wells Fargo', 629873495),\n",
       " (6, 89178109018, 890123900, 6, 4, 'Citigroup', 890123900),\n",
       " (7, 11398000774, 2340903984, 7, 3, 'JPMorgan Chase', 2340903984),\n",
       " (8, 22787074845, 890123900, 8, 4, 'Citigroup', 890123900),\n",
       " (9, 60706346980, 890123900, 9, 4, 'Citigroup', 890123900),\n",
       " (10, 12654009617, 184619239, 10, 6, 'Capital One', 184619239),\n",
       " (11, 51632282614, 629873495, 11, 2, 'Wells Fargo', 629873495),\n",
       " (12, 68456483309, 905192010, 12, 5, 'TD Bank', 905192010),\n",
       " (13, 73015643543, 2340903984, 13, 3, 'JPMorgan Chase', 2340903984),\n",
       " (14, 66653098136, 905192010, 14, 5, 'TD Bank', 905192010),\n",
       " (15, 73639983258, 184619239, 15, 6, 'Capital One', 184619239),\n",
       " (16, 68191577695, 890123900, 16, 4, 'Citigroup', 890123900),\n",
       " (17, 1130813569, 890123900, 17, 4, 'Citigroup', 890123900),\n",
       " (18, 46731417034, 2340903984, 18, 3, 'JPMorgan Chase', 2340903984),\n",
       " (19, 69004996851, 184619239, 19, 6, 'Capital One', 184619239),\n",
       " (20, 75032806086, 905192010, 20, 5, 'TD Bank', 905192010),\n",
       " (21, 65612468052, 890123900, 21, 4, 'Citigroup', 890123900),\n",
       " (22, 76163431193, 629873495, 22, 2, 'Wells Fargo', 629873495),\n",
       " (23, 31125785634, 629873495, 23, 2, 'Wells Fargo', 629873495),\n",
       " (24, 64250427325, 184619239, 24, 6, 'Capital One', 184619239),\n",
       " (25, 7284515287, 198491827, 25, 1, 'Bank of America', 198491827),\n",
       " (26, 36243682622, 2340903984, 26, 3, 'JPMorgan Chase', 2340903984),\n",
       " (27, 6802893682, 629873495, 27, 2, 'Wells Fargo', 629873495),\n",
       " (28, 48975373191, 2340903984, 28, 3, 'JPMorgan Chase', 2340903984),\n",
       " (29, 55317680318, 629873495, 29, 2, 'Wells Fargo', 629873495),\n",
       " (30, 6957425936, 905192010, 30, 5, 'TD Bank', 905192010),\n",
       " (31, 87596526571, 2340903984, 31, 3, 'JPMorgan Chase', 2340903984),\n",
       " (32, 32237372412, 2340903984, 32, 3, 'JPMorgan Chase', 2340903984),\n",
       " (33, 50668921877, 2340903984, 33, 3, 'JPMorgan Chase', 2340903984),\n",
       " (34, 31905656087, 629873495, 34, 2, 'Wells Fargo', 629873495),\n",
       " (35, 76887338713, 2340903984, 35, 3, 'JPMorgan Chase', 2340903984),\n",
       " (36, 53202638817, 890123900, 36, 4, 'Citigroup', 890123900),\n",
       " (37, 48862241090, 629873495, 37, 2, 'Wells Fargo', 629873495),\n",
       " (38, 16179523315, 890123900, 38, 4, 'Citigroup', 890123900),\n",
       " (39, 31525433090, 890123900, 39, 4, 'Citigroup', 890123900),\n",
       " (40, 86346682262, 905192010, 40, 5, 'TD Bank', 905192010),\n",
       " (41, 94169987556, 198491827, 41, 1, 'Bank of America', 198491827),\n",
       " (42, 15257433300, 629873495, 42, 2, 'Wells Fargo', 629873495),\n",
       " (43, 89793281199, 890123900, 43, 4, 'Citigroup', 890123900),\n",
       " (44, 61899463671, 905192010, 44, 5, 'TD Bank', 905192010),\n",
       " (45, 15097116063, 2340903984, 45, 3, 'JPMorgan Chase', 2340903984),\n",
       " (46, 14287899182, 905192010, 46, 5, 'TD Bank', 905192010),\n",
       " (47, 50466419650, 2340903984, 47, 3, 'JPMorgan Chase', 2340903984),\n",
       " (48, 13036169817, 905192010, 48, 5, 'TD Bank', 905192010),\n",
       " (49, 99461190391, 890123900, 49, 4, 'Citigroup', 890123900),\n",
       " (50, 46824584329, 905192010, 50, 5, 'TD Bank', 905192010),\n",
       " (51, 98733625849, 2340903984, 51, 3, 'JPMorgan Chase', 2340903984),\n",
       " (52, 54406399670, 890123900, 52, 4, 'Citigroup', 890123900),\n",
       " (53, 23337525652, 890123900, 53, 4, 'Citigroup', 890123900),\n",
       " (54, 99135542058, 905192010, 54, 5, 'TD Bank', 905192010),\n",
       " (55, 79382904819, 198491827, 55, 1, 'Bank of America', 198491827),\n",
       " (56, 51891860969, 629873495, 56, 2, 'Wells Fargo', 629873495),\n",
       " (57, 967477448, 890123900, 57, 4, 'Citigroup', 890123900),\n",
       " (58, 43950731817, 198491827, 58, 1, 'Bank of America', 198491827),\n",
       " (59, 83587629692, 2340903984, 59, 3, 'JPMorgan Chase', 2340903984),\n",
       " (60, 50677857318, 2340903984, 60, 3, 'JPMorgan Chase', 2340903984),\n",
       " (61, 30030690448, 2340903984, 61, 3, 'JPMorgan Chase', 2340903984),\n",
       " (62, 24846297310, 890123900, 62, 4, 'Citigroup', 890123900),\n",
       " (63, 97451406215, 2340903984, 63, 3, 'JPMorgan Chase', 2340903984),\n",
       " (64, 76772259664, 184619239, 64, 6, 'Capital One', 184619239),\n",
       " (65, 40622611365, 184619239, 65, 6, 'Capital One', 184619239),\n",
       " (66, 22259674175, 890123900, 66, 4, 'Citigroup', 890123900),\n",
       " (67, 68396653143, 184619239, 67, 6, 'Capital One', 184619239),\n",
       " (68, 30665947105, 2340903984, 68, 3, 'JPMorgan Chase', 2340903984),\n",
       " (69, 64854709670, 905192010, 69, 5, 'TD Bank', 905192010),\n",
       " (70, 50770824681, 184619239, 70, 6, 'Capital One', 184619239),\n",
       " (71, 77586925062, 629873495, 71, 2, 'Wells Fargo', 629873495),\n",
       " (72, 63409835848, 184619239, 72, 6, 'Capital One', 184619239),\n",
       " (73, 48199192552, 198491827, 73, 1, 'Bank of America', 198491827),\n",
       " (74, 81986012181, 184619239, 74, 6, 'Capital One', 184619239),\n",
       " (75, 25129785289, 629873495, 75, 2, 'Wells Fargo', 629873495),\n",
       " (76, 1895042747, 198491827, 76, 1, 'Bank of America', 198491827),\n",
       " (77, 84383348363, 890123900, 77, 4, 'Citigroup', 890123900),\n",
       " (78, 28339725980, 2340903984, 78, 3, 'JPMorgan Chase', 2340903984),\n",
       " (79, 84018214168, 905192010, 79, 5, 'TD Bank', 905192010),\n",
       " (80, 76687857530, 905192010, 80, 5, 'TD Bank', 905192010),\n",
       " (81, 56872804020, 629873495, 81, 2, 'Wells Fargo', 629873495),\n",
       " (82, 81600174551, 184619239, 82, 6, 'Capital One', 184619239),\n",
       " (83, 45952835629, 629873495, 83, 2, 'Wells Fargo', 629873495),\n",
       " (84, 76348348196, 890123900, 84, 4, 'Citigroup', 890123900),\n",
       " (85, 53314019780, 2340903984, 85, 3, 'JPMorgan Chase', 2340903984),\n",
       " (86, 31145283096, 905192010, 86, 5, 'TD Bank', 905192010),\n",
       " (87, 21794275834, 184619239, 87, 6, 'Capital One', 184619239),\n",
       " (88, 90101392782, 905192010, 88, 5, 'TD Bank', 905192010),\n",
       " (89, 56801480654, 184619239, 89, 6, 'Capital One', 184619239),\n",
       " (90, 76630743188, 905192010, 90, 5, 'TD Bank', 905192010),\n",
       " (91, 74801502311, 890123900, 91, 4, 'Citigroup', 890123900),\n",
       " (92, 58818848296, 905192010, 92, 5, 'TD Bank', 905192010),\n",
       " (93, 53453433797, 890123900, 93, 4, 'Citigroup', 890123900),\n",
       " (94, 41788548337, 905192010, 94, 5, 'TD Bank', 905192010),\n",
       " (95, 44728748510, 905192010, 95, 5, 'TD Bank', 905192010),\n",
       " (96, 51737126284, 890123900, 96, 4, 'Citigroup', 890123900),\n",
       " (97, 5848472535, 629873495, 97, 2, 'Wells Fargo', 629873495),\n",
       " (98, 48749064404, 198491827, 98, 1, 'Bank of America', 198491827)]"
      ]
     },
     "execution_count": 23,
     "metadata": {},
     "output_type": "execute_result"
    }
   ],
   "source": [
    "# List the records returned\n",
    "list(results)"
   ]
  },
  {
   "cell_type": "markdown",
   "metadata": {},
   "source": [
    "## Left Join"
   ]
  },
  {
   "cell_type": "code",
   "execution_count": 14,
   "metadata": {},
   "outputs": [],
   "source": [
    "# A left join will capture all of the data from the left table\n",
    "# and only data from the right table where the common element is present\n",
    "sql_left = \"\"\"\n",
    "SELECT *\n",
    "FROM payments\n",
    "LEFT JOIN banks\n",
    "ON payments.bank_routing_number = banks.bank_routing_number\n",
    "\"\"\""
   ]
  },
  {
   "cell_type": "code",
   "execution_count": 15,
   "metadata": {},
   "outputs": [
    {
     "name": "stdout",
     "output_type": "stream",
     "text": [
      "2021-04-13 16:23:17,945 INFO sqlalchemy.engine.base.Engine \n",
      "SELECT *\n",
      "FROM payments\n",
      "LEFT JOIN banks\n",
      "ON payments.bank_routing_number = banks.bank_routing_number\n",
      "\n",
      "2021-04-13 16:23:17,946 INFO sqlalchemy.engine.base.Engine ()\n"
     ]
    }
   ],
   "source": [
    "# Execute the sql statement\n",
    "results = engine.execute(sql_left)"
   ]
  },
  {
   "cell_type": "code",
   "execution_count": 16,
   "metadata": {
    "scrolled": true
   },
   "outputs": [
    {
     "data": {
      "text/plain": [
       "[('payment_id', 'bank_number', 'bank_routing_number', 'customer_id', 'bank_id', 'bank_name', 'bank_routing_number'),\n",
       " (1, 9269877403, 905192010, 1, 5, 'TD Bank', 905192010),\n",
       " (2, 82888733522, 629873495, 2, 2, 'Wells Fargo', 629873495),\n",
       " (3, 20862689216, 905192010, 3, 5, 'TD Bank', 905192010),\n",
       " (4, 87342300762, 890123900, 4, 4, 'Citigroup', 890123900),\n",
       " (5, 32016806394, 629873495, 5, 2, 'Wells Fargo', 629873495),\n",
       " (6, 89178109018, 890123900, 6, 4, 'Citigroup', 890123900),\n",
       " (7, 11398000774, 2340903984, 7, 3, 'JPMorgan Chase', 2340903984),\n",
       " (8, 22787074845, 890123900, 8, 4, 'Citigroup', 890123900),\n",
       " (9, 60706346980, 890123900, 9, 4, 'Citigroup', 890123900),\n",
       " (10, 12654009617, 184619239, 10, 6, 'Capital One', 184619239),\n",
       " (11, 51632282614, 629873495, 11, 2, 'Wells Fargo', 629873495),\n",
       " (12, 68456483309, 905192010, 12, 5, 'TD Bank', 905192010),\n",
       " (13, 73015643543, 2340903984, 13, 3, 'JPMorgan Chase', 2340903984),\n",
       " (14, 66653098136, 905192010, 14, 5, 'TD Bank', 905192010),\n",
       " (15, 73639983258, 184619239, 15, 6, 'Capital One', 184619239),\n",
       " (16, 68191577695, 890123900, 16, 4, 'Citigroup', 890123900),\n",
       " (17, 1130813569, 890123900, 17, 4, 'Citigroup', 890123900),\n",
       " (18, 46731417034, 2340903984, 18, 3, 'JPMorgan Chase', 2340903984),\n",
       " (19, 69004996851, 184619239, 19, 6, 'Capital One', 184619239),\n",
       " (20, 75032806086, 905192010, 20, 5, 'TD Bank', 905192010),\n",
       " (21, 65612468052, 890123900, 21, 4, 'Citigroup', 890123900),\n",
       " (22, 76163431193, 629873495, 22, 2, 'Wells Fargo', 629873495),\n",
       " (23, 31125785634, 629873495, 23, 2, 'Wells Fargo', 629873495),\n",
       " (24, 64250427325, 184619239, 24, 6, 'Capital One', 184619239),\n",
       " (25, 7284515287, 198491827, 25, 1, 'Bank of America', 198491827),\n",
       " (26, 36243682622, 2340903984, 26, 3, 'JPMorgan Chase', 2340903984),\n",
       " (27, 6802893682, 629873495, 27, 2, 'Wells Fargo', 629873495),\n",
       " (28, 48975373191, 2340903984, 28, 3, 'JPMorgan Chase', 2340903984),\n",
       " (29, 55317680318, 629873495, 29, 2, 'Wells Fargo', 629873495),\n",
       " (30, 6957425936, 905192010, 30, 5, 'TD Bank', 905192010),\n",
       " (31, 87596526571, 2340903984, 31, 3, 'JPMorgan Chase', 2340903984),\n",
       " (32, 32237372412, 2340903984, 32, 3, 'JPMorgan Chase', 2340903984),\n",
       " (33, 50668921877, 2340903984, 33, 3, 'JPMorgan Chase', 2340903984),\n",
       " (34, 31905656087, 629873495, 34, 2, 'Wells Fargo', 629873495),\n",
       " (35, 76887338713, 2340903984, 35, 3, 'JPMorgan Chase', 2340903984),\n",
       " (36, 53202638817, 890123900, 36, 4, 'Citigroup', 890123900),\n",
       " (37, 48862241090, 629873495, 37, 2, 'Wells Fargo', 629873495),\n",
       " (38, 16179523315, 890123900, 38, 4, 'Citigroup', 890123900),\n",
       " (39, 31525433090, 890123900, 39, 4, 'Citigroup', 890123900),\n",
       " (40, 86346682262, 905192010, 40, 5, 'TD Bank', 905192010),\n",
       " (41, 94169987556, 198491827, 41, 1, 'Bank of America', 198491827),\n",
       " (42, 15257433300, 629873495, 42, 2, 'Wells Fargo', 629873495),\n",
       " (43, 89793281199, 890123900, 43, 4, 'Citigroup', 890123900),\n",
       " (44, 61899463671, 905192010, 44, 5, 'TD Bank', 905192010),\n",
       " (45, 15097116063, 2340903984, 45, 3, 'JPMorgan Chase', 2340903984),\n",
       " (46, 14287899182, 905192010, 46, 5, 'TD Bank', 905192010),\n",
       " (47, 50466419650, 2340903984, 47, 3, 'JPMorgan Chase', 2340903984),\n",
       " (48, 13036169817, 905192010, 48, 5, 'TD Bank', 905192010),\n",
       " (49, 99461190391, 890123900, 49, 4, 'Citigroup', 890123900),\n",
       " (50, 46824584329, 905192010, 50, 5, 'TD Bank', 905192010),\n",
       " (51, 98733625849, 2340903984, 51, 3, 'JPMorgan Chase', 2340903984),\n",
       " (52, 54406399670, 890123900, 52, 4, 'Citigroup', 890123900),\n",
       " (53, 23337525652, 890123900, 53, 4, 'Citigroup', 890123900),\n",
       " (54, 99135542058, 905192010, 54, 5, 'TD Bank', 905192010),\n",
       " (55, 79382904819, 198491827, 55, 1, 'Bank of America', 198491827),\n",
       " (56, 51891860969, 629873495, 56, 2, 'Wells Fargo', 629873495),\n",
       " (57, 967477448, 890123900, 57, 4, 'Citigroup', 890123900),\n",
       " (58, 43950731817, 198491827, 58, 1, 'Bank of America', 198491827),\n",
       " (59, 83587629692, 2340903984, 59, 3, 'JPMorgan Chase', 2340903984),\n",
       " (60, 50677857318, 2340903984, 60, 3, 'JPMorgan Chase', 2340903984),\n",
       " (61, 30030690448, 2340903984, 61, 3, 'JPMorgan Chase', 2340903984),\n",
       " (62, 24846297310, 890123900, 62, 4, 'Citigroup', 890123900),\n",
       " (63, 97451406215, 2340903984, 63, 3, 'JPMorgan Chase', 2340903984),\n",
       " (64, 76772259664, 184619239, 64, 6, 'Capital One', 184619239),\n",
       " (65, 40622611365, 184619239, 65, 6, 'Capital One', 184619239),\n",
       " (66, 22259674175, 890123900, 66, 4, 'Citigroup', 890123900),\n",
       " (67, 68396653143, 184619239, 67, 6, 'Capital One', 184619239),\n",
       " (68, 30665947105, 2340903984, 68, 3, 'JPMorgan Chase', 2340903984),\n",
       " (69, 64854709670, 905192010, 69, 5, 'TD Bank', 905192010),\n",
       " (70, 50770824681, 184619239, 70, 6, 'Capital One', 184619239),\n",
       " (71, 77586925062, 629873495, 71, 2, 'Wells Fargo', 629873495),\n",
       " (72, 63409835848, 184619239, 72, 6, 'Capital One', 184619239),\n",
       " (73, 48199192552, 198491827, 73, 1, 'Bank of America', 198491827),\n",
       " (74, 81986012181, 184619239, 74, 6, 'Capital One', 184619239),\n",
       " (75, 25129785289, 629873495, 75, 2, 'Wells Fargo', 629873495),\n",
       " (76, 1895042747, 198491827, 76, 1, 'Bank of America', 198491827),\n",
       " (77, 84383348363, 890123900, 77, 4, 'Citigroup', 890123900),\n",
       " (78, 28339725980, 2340903984, 78, 3, 'JPMorgan Chase', 2340903984),\n",
       " (79, 84018214168, 905192010, 79, 5, 'TD Bank', 905192010),\n",
       " (80, 76687857530, 905192010, 80, 5, 'TD Bank', 905192010),\n",
       " (81, 56872804020, 629873495, 81, 2, 'Wells Fargo', 629873495),\n",
       " (82, 81600174551, 184619239, 82, 6, 'Capital One', 184619239),\n",
       " (83, 45952835629, 629873495, 83, 2, 'Wells Fargo', 629873495),\n",
       " (84, 76348348196, 890123900, 84, 4, 'Citigroup', 890123900),\n",
       " (85, 53314019780, 2340903984, 85, 3, 'JPMorgan Chase', 2340903984),\n",
       " (86, 31145283096, 905192010, 86, 5, 'TD Bank', 905192010),\n",
       " (87, 21794275834, 184619239, 87, 6, 'Capital One', 184619239),\n",
       " (88, 90101392782, 905192010, 88, 5, 'TD Bank', 905192010),\n",
       " (89, 56801480654, 184619239, 89, 6, 'Capital One', 184619239),\n",
       " (90, 76630743188, 905192010, 90, 5, 'TD Bank', 905192010),\n",
       " (91, 74801502311, 890123900, 91, 4, 'Citigroup', 890123900),\n",
       " (92, 58818848296, 905192010, 92, 5, 'TD Bank', 905192010),\n",
       " (93, 53453433797, 890123900, 93, 4, 'Citigroup', 890123900),\n",
       " (94, 41788548337, 905192010, 94, 5, 'TD Bank', 905192010),\n",
       " (95, 44728748510, 905192010, 95, 5, 'TD Bank', 905192010),\n",
       " (96, 51737126284, 890123900, 96, 4, 'Citigroup', 890123900),\n",
       " (97, 5848472535, 629873495, 97, 2, 'Wells Fargo', 629873495),\n",
       " (98, 48749064404, 198491827, 98, 1, 'Bank of America', 198491827),\n",
       " (99, 93467025920, 166846533, 99, None, None, None),\n",
       " (100, 72002809830, 166846533, 100, None, None, None)]"
      ]
     },
     "execution_count": 16,
     "metadata": {},
     "output_type": "execute_result"
    }
   ],
   "source": [
    "# List the records returned\n",
    "list(results)"
   ]
  },
  {
   "cell_type": "markdown",
   "metadata": {},
   "source": [
    "## Multiple Table Joins"
   ]
  },
  {
   "cell_type": "code",
   "execution_count": 24,
   "metadata": {},
   "outputs": [],
   "source": [
    "# Multi table joins combine only select columns from various tables\n",
    "multi_join = \"\"\"\n",
    "SELECT\n",
    "  payments.payment_id,\n",
    "  payments.bank_number,\n",
    "  payments.bank_routing_number,\n",
    "  banks.bank_name,\n",
    "  customer.first_name,\n",
    "  customer.last_name\n",
    "FROM payments\n",
    "LEFT JOIN banks ON payments.bank_routing_number = banks.bank_routing_number\n",
    "INNER JOIN customer ON payments.customer_id = customer.customer_id\n",
    "\"\"\""
   ]
  },
  {
   "cell_type": "code",
   "execution_count": 25,
   "metadata": {},
   "outputs": [
    {
     "name": "stdout",
     "output_type": "stream",
     "text": [
      "2021-04-13 16:39:43,641 INFO sqlalchemy.engine.base.Engine \n",
      "SELECT\n",
      "  payments.payment_id,\n",
      "  payments.bank_number,\n",
      "  payments.bank_routing_number,\n",
      "  banks.bank_name,\n",
      "  customer.first_name,\n",
      "  customer.last_name\n",
      "FROM payments\n",
      "LEFT JOIN banks ON payments.bank_routing_number = banks.bank_routing_number\n",
      "INNER JOIN customer ON payments.customer_id = customer.customer_id\n",
      "\n",
      "2021-04-13 16:39:43,642 INFO sqlalchemy.engine.base.Engine ()\n"
     ]
    }
   ],
   "source": [
    "results = engine.execute(multi_join)"
   ]
  },
  {
   "cell_type": "code",
   "execution_count": 26,
   "metadata": {
    "scrolled": true
   },
   "outputs": [
    {
     "data": {
      "text/plain": [
       "[('payment_id', 'bank_number', 'bank_routing_number', 'bank_name', 'first_name', 'last_name'),\n",
       " (1, 9269877403, 905192010, 'TD Bank', 'Michael', 'Meyer'),\n",
       " (2, 82888733522, 629873495, 'Wells Fargo', 'Cindy', 'Stephens'),\n",
       " (3, 20862689216, 905192010, 'TD Bank', 'John', 'Jackson'),\n",
       " (4, 87342300762, 890123900, 'Citigroup', 'Alexander', 'Martinez'),\n",
       " (5, 32016806394, 629873495, 'Wells Fargo', 'John', 'Pugh'),\n",
       " (6, 89178109018, 890123900, 'Citigroup', 'Ashley', 'Chan'),\n",
       " (7, 11398000774, 2340903984, 'JPMorgan Chase', 'Matthew', 'Kramer'),\n",
       " (8, 22787074845, 890123900, 'Citigroup', 'Tammy', 'Soto'),\n",
       " (9, 60706346980, 890123900, 'Citigroup', 'Christopher', 'Kirby'),\n",
       " (10, 12654009617, 184619239, 'Capital One', 'Krystal', 'Huang'),\n",
       " (11, 51632282614, 629873495, 'Wells Fargo', 'Sandra', 'Jimenez'),\n",
       " (12, 68456483309, 905192010, 'TD Bank', 'Dawn', 'Black'),\n",
       " (13, 73015643543, 2340903984, 'JPMorgan Chase', 'Christina', 'Henderson'),\n",
       " (14, 66653098136, 905192010, 'TD Bank', 'Sheila', 'Foster'),\n",
       " (15, 73639983258, 184619239, 'Capital One', 'Marvin', 'Cruz'),\n",
       " (16, 68191577695, 890123900, 'Citigroup', 'Shannon', 'Thompson'),\n",
       " (17, 1130813569, 890123900, 'Citigroup', 'Jessica', 'Brown'),\n",
       " (18, 46731417034, 2340903984, 'JPMorgan Chase', 'George', 'Scott'),\n",
       " (19, 69004996851, 184619239, 'Capital One', 'Gregory', 'Green'),\n",
       " (20, 75032806086, 905192010, 'TD Bank', 'Brooke', 'Armstrong'),\n",
       " (21, 65612468052, 890123900, 'Citigroup', 'Bethany', 'Williams'),\n",
       " (22, 76163431193, 629873495, 'Wells Fargo', 'Sherry', 'Mooney'),\n",
       " (23, 31125785634, 629873495, 'Wells Fargo', 'Stephen', 'Guerrero'),\n",
       " (24, 64250427325, 184619239, 'Capital One', 'Brandon', 'Lewis'),\n",
       " (25, 7284515287, 198491827, 'Bank of America', 'William', 'Morris'),\n",
       " (26, 36243682622, 2340903984, 'JPMorgan Chase', 'Meredith', 'Turner'),\n",
       " (27, 6802893682, 629873495, 'Wells Fargo', 'Dawn', 'Meyers'),\n",
       " (28, 48975373191, 2340903984, 'JPMorgan Chase', 'Frank', 'Morales'),\n",
       " (29, 55317680318, 629873495, 'Wells Fargo', 'Rebecca', 'Robertson'),\n",
       " (30, 6957425936, 905192010, 'TD Bank', 'Nicholas', 'Brown'),\n",
       " (31, 87596526571, 2340903984, 'JPMorgan Chase', 'Vernon', 'Johnston'),\n",
       " (32, 32237372412, 2340903984, 'JPMorgan Chase', 'Sandra', 'Rodriguez'),\n",
       " (33, 50668921877, 2340903984, 'JPMorgan Chase', 'Jennifer', 'Cooper'),\n",
       " (34, 31905656087, 629873495, 'Wells Fargo', 'Adam', 'Jones'),\n",
       " (35, 76887338713, 2340903984, 'JPMorgan Chase', 'Thomas', 'Hart'),\n",
       " (36, 53202638817, 890123900, 'Citigroup', 'Keith', 'Thomas'),\n",
       " (37, 48862241090, 629873495, 'Wells Fargo', 'Willie', 'Morris'),\n",
       " (38, 16179523315, 890123900, 'Citigroup', 'Kelly', 'Joyce'),\n",
       " (39, 31525433090, 890123900, 'Citigroup', 'Victoria', 'Romero'),\n",
       " (40, 86346682262, 905192010, 'TD Bank', 'Denise', 'Hamilton'),\n",
       " (41, 94169987556, 198491827, 'Bank of America', 'Mary', 'Rosales'),\n",
       " (42, 15257433300, 629873495, 'Wells Fargo', 'Gregory', 'Myers'),\n",
       " (43, 89793281199, 890123900, 'Citigroup', 'Kyle', 'Dean'),\n",
       " (44, 61899463671, 905192010, 'TD Bank', 'Allison', 'Keith'),\n",
       " (45, 15097116063, 2340903984, 'JPMorgan Chase', 'Marisa', 'Schmitt'),\n",
       " (46, 14287899182, 905192010, 'TD Bank', 'Mrs.', 'Abigail'),\n",
       " (47, 50466419650, 2340903984, 'JPMorgan Chase', 'Randy', 'Johnson'),\n",
       " (48, 13036169817, 905192010, 'TD Bank', 'Michelle', 'Becker'),\n",
       " (49, 99461190391, 890123900, 'Citigroup', 'Taylor', 'Hill'),\n",
       " (50, 46824584329, 905192010, 'TD Bank', 'Amy', 'Dorsey'),\n",
       " (51, 98733625849, 2340903984, 'JPMorgan Chase', 'Michael', 'Hendrix'),\n",
       " (52, 54406399670, 890123900, 'Citigroup', 'Nancy', 'Bowman'),\n",
       " (53, 23337525652, 890123900, 'Citigroup', 'Andrea', 'Myers'),\n",
       " (54, 99135542058, 905192010, 'TD Bank', 'Mike', 'Ward'),\n",
       " (55, 79382904819, 198491827, 'Bank of America', 'Steven', 'Flores'),\n",
       " (56, 51891860969, 629873495, 'Wells Fargo', 'John', 'Rogers'),\n",
       " (57, 967477448, 890123900, 'Citigroup', 'Angela', 'Johnson'),\n",
       " (58, 43950731817, 198491827, 'Bank of America', 'Meredith', 'Crawford'),\n",
       " (59, 83587629692, 2340903984, 'JPMorgan Chase', 'Jon', 'Smith'),\n",
       " (60, 50677857318, 2340903984, 'JPMorgan Chase', 'Eugene', 'Klein'),\n",
       " (61, 30030690448, 2340903984, 'JPMorgan Chase', 'Russell', 'Smith'),\n",
       " (62, 24846297310, 890123900, 'Citigroup', 'Maria', 'Bennett'),\n",
       " (63, 97451406215, 2340903984, 'JPMorgan Chase', 'Rebecca', 'Deleon'),\n",
       " (64, 76772259664, 184619239, 'Capital One', 'Tiffany', 'Cook'),\n",
       " (65, 40622611365, 184619239, 'Capital One', 'Dr.', 'Joseph'),\n",
       " (66, 22259674175, 890123900, 'Citigroup', 'Annette', 'Mcguire'),\n",
       " (67, 68396653143, 184619239, 'Capital One', 'Jessica', 'Griffin'),\n",
       " (68, 30665947105, 2340903984, 'JPMorgan Chase', 'Susan', 'Campbell'),\n",
       " (69, 64854709670, 905192010, 'TD Bank', 'Kyle', 'Thomas'),\n",
       " (70, 50770824681, 184619239, 'Capital One', 'Valerie', 'Fisher'),\n",
       " (71, 77586925062, 629873495, 'Wells Fargo', 'Paul', 'Gonzales'),\n",
       " (72, 63409835848, 184619239, 'Capital One', 'Michele', 'Jones'),\n",
       " (73, 48199192552, 198491827, 'Bank of America', 'Rodney', 'Jennings'),\n",
       " (74, 81986012181, 184619239, 'Capital One', 'Ray', 'Brown'),\n",
       " (75, 25129785289, 629873495, 'Wells Fargo', 'Amy', 'Castro'),\n",
       " (76, 1895042747, 198491827, 'Bank of America', 'Blake', 'Williams'),\n",
       " (77, 84383348363, 890123900, 'Citigroup', 'James', 'Morales'),\n",
       " (78, 28339725980, 2340903984, 'JPMorgan Chase', 'Tracy', 'Pham'),\n",
       " (79, 84018214168, 905192010, 'TD Bank', 'William', 'Berger'),\n",
       " (80, 76687857530, 905192010, 'TD Bank', 'Suzanne', 'Miller'),\n",
       " (81, 56872804020, 629873495, 'Wells Fargo', 'Michael', 'Miranda'),\n",
       " (82, 81600174551, 184619239, 'Capital One', 'Nancy', 'Andrews'),\n",
       " (83, 45952835629, 629873495, 'Wells Fargo', 'Steven', 'Proctor'),\n",
       " (84, 76348348196, 890123900, 'Citigroup', 'Madison', 'Murphy'),\n",
       " (85, 53314019780, 2340903984, 'JPMorgan Chase', 'Benjamin', 'Barry'),\n",
       " (86, 31145283096, 905192010, 'TD Bank', 'Alexandra', 'Barton'),\n",
       " (87, 21794275834, 184619239, 'Capital One', 'April', 'Kim'),\n",
       " (88, 90101392782, 905192010, 'TD Bank', 'Christopher', 'Baker'),\n",
       " (89, 56801480654, 184619239, 'Capital One', 'Randall', 'Dean'),\n",
       " (90, 76630743188, 905192010, 'TD Bank', 'Oscar', 'Flores'),\n",
       " (91, 74801502311, 890123900, 'Citigroup', 'Mitchell', 'Spencer'),\n",
       " (92, 58818848296, 905192010, 'TD Bank', 'Gary', 'Snyder'),\n",
       " (93, 53453433797, 890123900, 'Citigroup', 'Lisa', 'Armstrong'),\n",
       " (94, 41788548337, 905192010, 'TD Bank', 'Jeremy', 'Norris'),\n",
       " (95, 44728748510, 905192010, 'TD Bank', 'Michael', 'Wheeler'),\n",
       " (96, 51737126284, 890123900, 'Citigroup', 'April', 'Ross'),\n",
       " (97, 5848472535, 629873495, 'Wells Fargo', 'Jessica', 'Lynch'),\n",
       " (98, 48749064404, 198491827, 'Bank of America', 'Donna', 'Bray'),\n",
       " (99, 93467025920, 166846533, None, 'Carolyn', 'Williams'),\n",
       " (100, 72002809830, 166846533, None, 'Lee', 'Sweeney')]"
      ]
     },
     "execution_count": 26,
     "metadata": {},
     "output_type": "execute_result"
    }
   ],
   "source": [
    "list(results)"
   ]
  },
  {
   "cell_type": "code",
   "execution_count": 17,
   "metadata": {},
   "outputs": [],
   "source": []
  }
 ],
 "metadata": {
  "kernelspec": {
   "display_name": "Python (dev)",
   "language": "python",
   "name": "dev"
  },
  "language_info": {
   "codemirror_mode": {
    "name": "ipython",
    "version": 3
   },
   "file_extension": ".py",
   "mimetype": "text/x-python",
   "name": "python",
   "nbconvert_exporter": "python",
   "pygments_lexer": "ipython3",
   "version": "3.7.7"
  }
 },
 "nbformat": 4,
 "nbformat_minor": 4
}

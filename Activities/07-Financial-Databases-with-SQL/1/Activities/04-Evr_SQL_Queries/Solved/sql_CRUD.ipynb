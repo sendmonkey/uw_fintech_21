{
 "cells": [
  {
   "cell_type": "markdown",
   "metadata": {},
   "source": [
    "# CRUD SQL Queries"
   ]
  },
  {
   "cell_type": "markdown",
   "metadata": {},
   "source": [
    "## Create the database"
   ]
  },
  {
   "cell_type": "code",
   "execution_count": null,
   "metadata": {},
   "outputs": [],
   "source": [
    "# Import the modules\n",
    "import pandas as pd\n",
    "import sqlalchemy as sql"
   ]
  },
  {
   "cell_type": "code",
   "execution_count": null,
   "metadata": {},
   "outputs": [],
   "source": [
    "# Database connection string\n",
    "database_connection_string = 'sqlite:///../Resources/mortgage_payments.db'"
   ]
  },
  {
   "cell_type": "code",
   "execution_count": null,
   "metadata": {},
   "outputs": [],
   "source": [
    "# Database engine\n",
    "engine = sql.create_engine(database_connection_string, echo=True)"
   ]
  },
  {
   "cell_type": "code",
   "execution_count": null,
   "metadata": {},
   "outputs": [],
   "source": [
    "# Get table names from the database\n",
    "engine.table_names()"
   ]
  },
  {
   "cell_type": "markdown",
   "metadata": {},
   "source": [
    "## SELECT Queries"
   ]
  },
  {
   "cell_type": "code",
   "execution_count": null,
   "metadata": {},
   "outputs": [],
   "source": [
    "# SELECT all data from the customers table\n",
    "sql_select = \"SELECT * FROM customers\""
   ]
  },
  {
   "cell_type": "code",
   "execution_count": null,
   "metadata": {},
   "outputs": [],
   "source": [
    "# Execute the sql select statement\n",
    "results = engine.execute(sql_select)"
   ]
  },
  {
   "cell_type": "code",
   "execution_count": null,
   "metadata": {
    "scrolled": true
   },
   "outputs": [],
   "source": [
    "# View results using a for-loop\n",
    "for row in results:\n",
    "    print(row)"
   ]
  },
  {
   "cell_type": "code",
   "execution_count": null,
   "metadata": {
    "scrolled": true
   },
   "outputs": [],
   "source": [
    "# Execute the sql select statement\n",
    "results = engine.execute(sql_select)\n",
    "\n",
    "# View results using a Pandas list\n",
    "list(results)"
   ]
  },
  {
   "cell_type": "code",
   "execution_count": null,
   "metadata": {},
   "outputs": [],
   "source": [
    "# Execute the sql select statement\n",
    "results = engine.execute(sql_select)\n",
    "\n",
    "# Convert the results into a Pandas DataFrame\n",
    "customers_df = pd.DataFrame(list(results))\n",
    "\n",
    "# Review the DataFrame\n",
    "customers_df.head()"
   ]
  },
  {
   "cell_type": "markdown",
   "metadata": {},
   "source": [
    "### WHERE Modifier"
   ]
  },
  {
   "cell_type": "code",
   "execution_count": null,
   "metadata": {},
   "outputs": [],
   "source": [
    "# SELECT all Michael's from the customer table\n",
    "sql_select_michael = \"\"\"\n",
    "SELECT customer_id, first_name, last_name, age\n",
    "FROM customers\n",
    "WHERE first_name = 'Michael'\n",
    "\"\"\""
   ]
  },
  {
   "cell_type": "code",
   "execution_count": null,
   "metadata": {},
   "outputs": [],
   "source": [
    "# Execute the sql select statement\n",
    "results = engine.execute(sql_select_michael)"
   ]
  },
  {
   "cell_type": "code",
   "execution_count": null,
   "metadata": {},
   "outputs": [],
   "source": [
    "# List the results of the query\n",
    "list(results)"
   ]
  },
  {
   "cell_type": "markdown",
   "metadata": {},
   "source": [
    "### Wildcard Characters"
   ]
  },
  {
   "cell_type": "code",
   "execution_count": null,
   "metadata": {},
   "outputs": [],
   "source": [
    "# The underscore (_) only replaces a single character\n",
    "sql_select_wild_card = \"\"\"\n",
    "SELECT customer_id, first_name, last_name, age\n",
    "FROM customers\n",
    "WHERE last_name like 'Pat_'\n",
    "\"\"\""
   ]
  },
  {
   "cell_type": "code",
   "execution_count": null,
   "metadata": {},
   "outputs": [],
   "source": [
    "# Execute the sql statement\n",
    "results = engine.execute(sql_select_wild_card)"
   ]
  },
  {
   "cell_type": "code",
   "execution_count": null,
   "metadata": {},
   "outputs": [],
   "source": [
    "# List the results of the query\n",
    "list(results)"
   ]
  },
  {
   "cell_type": "code",
   "execution_count": null,
   "metadata": {},
   "outputs": [],
   "source": [
    "# The percent (%) wild card allows for any number of characters\n",
    "sql_select_wild_card2 = \"\"\"\n",
    "SELECT customer_id, first_name, last_name, age\n",
    "FROM customers\n",
    "WHERE last_name like 'Pat%'\n",
    "\"\"\""
   ]
  },
  {
   "cell_type": "code",
   "execution_count": null,
   "metadata": {},
   "outputs": [],
   "source": [
    "# Execute the sql select statement\n",
    "results = engine.execute(sql_select_wild_card2)"
   ]
  },
  {
   "cell_type": "code",
   "execution_count": null,
   "metadata": {},
   "outputs": [],
   "source": [
    "# List the results of the query\n",
    "list(results)"
   ]
  },
  {
   "cell_type": "markdown",
   "metadata": {},
   "source": [
    "### ORDER BY Modifier"
   ]
  },
  {
   "cell_type": "code",
   "execution_count": null,
   "metadata": {},
   "outputs": [],
   "source": [
    "# Use the ORDER BY modifier to organize the data\n",
    "sql_select_michael_ordered = \"\"\"\n",
    "SELECT first_name, age\n",
    "FROM customers\n",
    "WHERE first_name = 'Michael'\n",
    "ORDER BY age\n",
    "\"\"\""
   ]
  },
  {
   "cell_type": "code",
   "execution_count": null,
   "metadata": {},
   "outputs": [],
   "source": [
    "# Execute the sql statement\n",
    "results = engine.execute(sql_select_michael_ordered)"
   ]
  },
  {
   "cell_type": "code",
   "execution_count": null,
   "metadata": {},
   "outputs": [],
   "source": [
    "# List the results of the query\n",
    "list(results)"
   ]
  },
  {
   "cell_type": "markdown",
   "metadata": {},
   "source": [
    "### LIMIT Modifier"
   ]
  },
  {
   "cell_type": "code",
   "execution_count": null,
   "metadata": {},
   "outputs": [],
   "source": [
    "# Use the LIMIT modifier to control the number of data entries returned\n",
    "sql_select_michael_ordered_limit = \"\"\"\n",
    "SELECT first_name, age\n",
    "FROM customers\n",
    "WHERE first_name = 'Michael'\n",
    "ORDER BY age\n",
    "LIMIT 5\n",
    "\"\"\"\n",
    "\n",
    "# Execute the sql statement\n",
    "results = engine.execute(sql_select_michael_ordered_limit)\n",
    "\n",
    "# List the results of the SQL query\n",
    "list(results)"
   ]
  },
  {
   "cell_type": "markdown",
   "metadata": {},
   "source": [
    "## INSERT Queries"
   ]
  },
  {
   "cell_type": "code",
   "execution_count": null,
   "metadata": {},
   "outputs": [],
   "source": [
    "# INSERT query structure\n",
    "#   INSERT INTO <table_name>\n",
    "#   (<column_name>, ..., <column_name>)\n",
    "#   VALUES\n",
    "#   (<some_value>, ..., <some_value>)"
   ]
  },
  {
   "cell_type": "code",
   "execution_count": null,
   "metadata": {},
   "outputs": [],
   "source": [
    "# INSERT data into the sql database\n",
    "sql_insert = \"\"\"\n",
    "INSERT INTO customers\n",
    "    (customer_id, first_name, last_name, age, zip_code, mortgage_id)\n",
    "VALUES\n",
    "    ('1000', 'Jane', 'Smith', '42', '12345', '9999')\n",
    "\"\"\""
   ]
  },
  {
   "cell_type": "code",
   "execution_count": null,
   "metadata": {},
   "outputs": [],
   "source": [
    "# Execute the sql insert statement\n",
    "engine.execute(sql_insert)"
   ]
  },
  {
   "cell_type": "code",
   "execution_count": null,
   "metadata": {},
   "outputs": [],
   "source": [
    "# Confirm that the data was inserted with a SELECT statement\n",
    "sql_stmt = \"\"\"\n",
    "SELECT *\n",
    "FROM customers\n",
    "WHERE first_name = 'Jane'\n",
    "AND last_name = 'Smith'\n",
    "\"\"\"\n",
    "\n",
    "# Execute the sql statement\n",
    "results = engine.execute(sql_stmt)\n",
    "\n",
    "# List the results of the query\n",
    "list(results)"
   ]
  },
  {
   "cell_type": "markdown",
   "metadata": {},
   "source": [
    "## UPDATE Queries"
   ]
  },
  {
   "cell_type": "code",
   "execution_count": null,
   "metadata": {},
   "outputs": [],
   "source": [
    "# UPDATE syntax\n",
    "#   UPDATE <table_name>\n",
    "#   SET <column_name> = <some_value>, ..., <column_name> = <some_value>\n",
    "#   WHERE <some_condition>"
   ]
  },
  {
   "cell_type": "code",
   "execution_count": null,
   "metadata": {},
   "outputs": [],
   "source": [
    "# UPDATE data in a database table\n",
    "sql_update = \"\"\"\n",
    "UPDATE customers\n",
    "SET first_name = 'Stacey'\n",
    "WHERE customer_id = 3\n",
    "\"\"\""
   ]
  },
  {
   "cell_type": "code",
   "execution_count": null,
   "metadata": {},
   "outputs": [],
   "source": [
    "# Execute the sql update statement\n",
    "engine.execute(sql_update)"
   ]
  },
  {
   "cell_type": "code",
   "execution_count": null,
   "metadata": {},
   "outputs": [],
   "source": [
    "# SELECT data in the table to review\n",
    "sql_stmt = \"\"\"\n",
    "SELECT *\n",
    "FROM customers\n",
    "WHERE customer_id = 3\n",
    "\"\"\"\n",
    "\n",
    "# Execute the sql statement\n",
    "results = engine.execute(sql_stmt)\n",
    "\n",
    "# List the results of the SQL query\n",
    "list(results)"
   ]
  },
  {
   "cell_type": "markdown",
   "metadata": {},
   "source": [
    "## DELETE Queries"
   ]
  },
  {
   "cell_type": "code",
   "execution_count": null,
   "metadata": {},
   "outputs": [],
   "source": [
    "# DELETE syntax\n",
    "#   DELETE FROM <table_name>\n",
    "#   WHERE <some_condition>"
   ]
  },
  {
   "cell_type": "code",
   "execution_count": null,
   "metadata": {},
   "outputs": [],
   "source": [
    "# DELETE data from the customers table\n",
    "sql_delete = \"\"\"\n",
    "DELETE\n",
    "FROM customers\n",
    "WHERE customer_id = 1000\n",
    "\"\"\"\n",
    "\n",
    "# Execute the sql delete statement\n",
    "engine.execute(sql_delete)\n"
   ]
  },
  {
   "cell_type": "code",
   "execution_count": null,
   "metadata": {
    "scrolled": true
   },
   "outputs": [],
   "source": [
    "# SELECT data from the table to review the deletion\n",
    "sql_stmt = \"\"\"\n",
    "SELECT * FROM customers\n",
    "\"\"\"\n",
    "\n",
    "# Execute the sql statement\n",
    "results = engine.execute(sql_stmt)\n",
    "\n",
    "# List the results of the query\n",
    "list(results)"
   ]
  },
  {
   "cell_type": "code",
   "execution_count": null,
   "metadata": {},
   "outputs": [],
   "source": []
  }
 ],
 "metadata": {
  "kernelspec": {
   "display_name": "Python (dev)",
   "language": "python",
   "name": "dev"
  },
  "language_info": {
   "codemirror_mode": {
    "name": "ipython",
    "version": 3
   },
   "file_extension": ".py",
   "mimetype": "text/x-python",
   "name": "python",
   "nbconvert_exporter": "python",
   "pygments_lexer": "ipython3",
   "version": "3.7.7"
  }
 },
 "nbformat": 4,
 "nbformat_minor": 4
}

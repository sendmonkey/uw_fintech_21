{
 "cells": [
  {
   "cell_type": "markdown",
   "metadata": {},
   "source": [
    "#### Import Libraries and Dependencies"
   ]
  },
  {
   "cell_type": "code",
   "execution_count": 1,
   "metadata": {},
   "outputs": [],
   "source": [
    "import pandas as pd\n",
    "from pathlib import Path"
   ]
  },
  {
   "cell_type": "markdown",
   "metadata": {},
   "source": [
    "#### Read in Files "
   ]
  },
  {
   "cell_type": "code",
   "execution_count": 2,
   "metadata": {},
   "outputs": [
    {
     "data": {
      "text/html": [
       "<div>\n",
       "<style scoped>\n",
       "    .dataframe tbody tr th:only-of-type {\n",
       "        vertical-align: middle;\n",
       "    }\n",
       "\n",
       "    .dataframe tbody tr th {\n",
       "        vertical-align: top;\n",
       "    }\n",
       "\n",
       "    .dataframe thead th {\n",
       "        text-align: right;\n",
       "    }\n",
       "</style>\n",
       "<table border=\"1\" class=\"dataframe\">\n",
       "  <thead>\n",
       "    <tr style=\"text-align: right;\">\n",
       "      <th></th>\n",
       "      <th>close</th>\n",
       "      <th>volume</th>\n",
       "    </tr>\n",
       "    <tr>\n",
       "      <th>Date</th>\n",
       "      <th></th>\n",
       "      <th></th>\n",
       "    </tr>\n",
       "  </thead>\n",
       "  <tbody>\n",
       "    <tr>\n",
       "      <th>2010-06-29 10:00:00</th>\n",
       "      <td>3.62</td>\n",
       "      <td>412770</td>\n",
       "    </tr>\n",
       "    <tr>\n",
       "      <th>2010-06-29 11:00:00</th>\n",
       "      <td>3.67</td>\n",
       "      <td>98220</td>\n",
       "    </tr>\n",
       "    <tr>\n",
       "      <th>2010-06-29 12:00:00</th>\n",
       "      <td>3.82</td>\n",
       "      <td>84465</td>\n",
       "    </tr>\n",
       "    <tr>\n",
       "      <th>2010-06-29 13:00:00</th>\n",
       "      <td>4.40</td>\n",
       "      <td>159355</td>\n",
       "    </tr>\n",
       "    <tr>\n",
       "      <th>2010-06-29 14:00:00</th>\n",
       "      <td>4.79</td>\n",
       "      <td>161970</td>\n",
       "    </tr>\n",
       "    <tr>\n",
       "      <th>...</th>\n",
       "      <td>...</td>\n",
       "      <td>...</td>\n",
       "    </tr>\n",
       "    <tr>\n",
       "      <th>2021-02-08 10:00:00</th>\n",
       "      <td>864.26</td>\n",
       "      <td>10684</td>\n",
       "    </tr>\n",
       "    <tr>\n",
       "      <th>2021-02-08 11:00:00</th>\n",
       "      <td>865.49</td>\n",
       "      <td>9550</td>\n",
       "    </tr>\n",
       "    <tr>\n",
       "      <th>2021-02-08 12:00:00</th>\n",
       "      <td>858.38</td>\n",
       "      <td>10333</td>\n",
       "    </tr>\n",
       "    <tr>\n",
       "      <th>2021-02-08 13:00:00</th>\n",
       "      <td>858.72</td>\n",
       "      <td>12833</td>\n",
       "    </tr>\n",
       "    <tr>\n",
       "      <th>2021-02-08 14:00:00</th>\n",
       "      <td>863.30</td>\n",
       "      <td>15212</td>\n",
       "    </tr>\n",
       "  </tbody>\n",
       "</table>\n",
       "<p>19264 rows × 2 columns</p>\n",
       "</div>"
      ],
      "text/plain": [
       "                      close  volume\n",
       "Date                               \n",
       "2010-06-29 10:00:00    3.62  412770\n",
       "2010-06-29 11:00:00    3.67   98220\n",
       "2010-06-29 12:00:00    3.82   84465\n",
       "2010-06-29 13:00:00    4.40  159355\n",
       "2010-06-29 14:00:00    4.79  161970\n",
       "...                     ...     ...\n",
       "2021-02-08 10:00:00  864.26   10684\n",
       "2021-02-08 11:00:00  865.49    9550\n",
       "2021-02-08 12:00:00  858.38   10333\n",
       "2021-02-08 13:00:00  858.72   12833\n",
       "2021-02-08 14:00:00  863.30   15212\n",
       "\n",
       "[19264 rows x 2 columns]"
      ]
     },
     "execution_count": 2,
     "metadata": {},
     "output_type": "execute_result"
    }
   ],
   "source": [
    "# Import data\n",
    "tsla_path = Path('../Resources/tsla_stock_volume.csv')\n",
    "\n",
    "# Read in data and index by date\n",
    "tsla_data = pd.read_csv(\n",
    "    tsla_path, \n",
    "    index_col='Date',     \n",
    "    parse_dates=True, \n",
    "    infer_datetime_format=True\n",
    ")\n",
    "tsla_data"
   ]
  },
  {
   "cell_type": "markdown",
   "metadata": {},
   "source": [
    "#### Slice DateTimeIndex Data"
   ]
  },
  {
   "cell_type": "code",
   "execution_count": 3,
   "metadata": {},
   "outputs": [
    {
     "data": {
      "text/html": [
       "<div>\n",
       "<style scoped>\n",
       "    .dataframe tbody tr th:only-of-type {\n",
       "        vertical-align: middle;\n",
       "    }\n",
       "\n",
       "    .dataframe tbody tr th {\n",
       "        vertical-align: top;\n",
       "    }\n",
       "\n",
       "    .dataframe thead th {\n",
       "        text-align: right;\n",
       "    }\n",
       "</style>\n",
       "<table border=\"1\" class=\"dataframe\">\n",
       "  <thead>\n",
       "    <tr style=\"text-align: right;\">\n",
       "      <th></th>\n",
       "      <th>close</th>\n",
       "      <th>volume</th>\n",
       "    </tr>\n",
       "    <tr>\n",
       "      <th>Date</th>\n",
       "      <th></th>\n",
       "      <th></th>\n",
       "    </tr>\n",
       "  </thead>\n",
       "  <tbody>\n",
       "    <tr>\n",
       "      <th>2021-01-04 08:00:00</th>\n",
       "      <td>738.55</td>\n",
       "      <td>70474</td>\n",
       "    </tr>\n",
       "    <tr>\n",
       "      <th>2021-01-04 09:00:00</th>\n",
       "      <td>731.20</td>\n",
       "      <td>61620</td>\n",
       "    </tr>\n",
       "    <tr>\n",
       "      <th>2021-01-04 10:00:00</th>\n",
       "      <td>730.98</td>\n",
       "      <td>40010</td>\n",
       "    </tr>\n",
       "    <tr>\n",
       "      <th>2021-01-04 11:00:00</th>\n",
       "      <td>724.06</td>\n",
       "      <td>45447</td>\n",
       "    </tr>\n",
       "    <tr>\n",
       "      <th>2021-01-04 12:00:00</th>\n",
       "      <td>733.13</td>\n",
       "      <td>32008</td>\n",
       "    </tr>\n",
       "    <tr>\n",
       "      <th>...</th>\n",
       "      <td>...</td>\n",
       "      <td>...</td>\n",
       "    </tr>\n",
       "    <tr>\n",
       "      <th>2021-01-29 10:00:00</th>\n",
       "      <td>819.00</td>\n",
       "      <td>15860</td>\n",
       "    </tr>\n",
       "    <tr>\n",
       "      <th>2021-01-29 11:00:00</th>\n",
       "      <td>790.72</td>\n",
       "      <td>48941</td>\n",
       "    </tr>\n",
       "    <tr>\n",
       "      <th>2021-01-29 12:00:00</th>\n",
       "      <td>790.88</td>\n",
       "      <td>27588</td>\n",
       "    </tr>\n",
       "    <tr>\n",
       "      <th>2021-01-29 13:00:00</th>\n",
       "      <td>789.09</td>\n",
       "      <td>20261</td>\n",
       "    </tr>\n",
       "    <tr>\n",
       "      <th>2021-01-29 14:00:00</th>\n",
       "      <td>793.31</td>\n",
       "      <td>29397</td>\n",
       "    </tr>\n",
       "  </tbody>\n",
       "</table>\n",
       "<p>133 rows × 2 columns</p>\n",
       "</div>"
      ],
      "text/plain": [
       "                      close  volume\n",
       "Date                               \n",
       "2021-01-04 08:00:00  738.55   70474\n",
       "2021-01-04 09:00:00  731.20   61620\n",
       "2021-01-04 10:00:00  730.98   40010\n",
       "2021-01-04 11:00:00  724.06   45447\n",
       "2021-01-04 12:00:00  733.13   32008\n",
       "...                     ...     ...\n",
       "2021-01-29 10:00:00  819.00   15860\n",
       "2021-01-29 11:00:00  790.72   48941\n",
       "2021-01-29 12:00:00  790.88   27588\n",
       "2021-01-29 13:00:00  789.09   20261\n",
       "2021-01-29 14:00:00  793.31   29397\n",
       "\n",
       "[133 rows x 2 columns]"
      ]
     },
     "execution_count": 3,
     "metadata": {},
     "output_type": "execute_result"
    }
   ],
   "source": [
    "# Slice the Data to One Specific Month\n",
    "volume_jan_2021 = tsla_data.loc['2021-01-01':'2021-01-31']\n",
    "volume_jan_2021"
   ]
  },
  {
   "cell_type": "markdown",
   "metadata": {},
   "source": [
    "#### Analyze DateTimeIndex Data with Groupby"
   ]
  },
  {
   "cell_type": "code",
   "execution_count": 4,
   "metadata": {},
   "outputs": [
    {
     "data": {
      "text/plain": [
       "4161226"
      ]
     },
     "execution_count": 4,
     "metadata": {},
     "output_type": "execute_result"
    }
   ],
   "source": [
    "# Calculate the total number of shares traded for the month of January, 2021\n",
    "jan_2021_volume = volume_jan_2021['volume'].sum()\n",
    "jan_2021_volume"
   ]
  },
  {
   "cell_type": "code",
   "execution_count": 5,
   "metadata": {},
   "outputs": [
    {
     "data": {
      "text/plain": [
       "Date\n",
       "2010-06-29 10:00:00    412770\n",
       "2010-06-29 11:00:00     98220\n",
       "2010-06-29 12:00:00     84465\n",
       "2010-06-29 13:00:00    159355\n",
       "2010-06-29 14:00:00    161970\n",
       "Name: volume, dtype: int64"
      ]
     },
     "execution_count": 5,
     "metadata": {},
     "output_type": "execute_result"
    }
   ],
   "source": [
    "tesla_volume = tsla_data['volume']\n",
    "tesla_volume.head()"
   ]
  },
  {
   "cell_type": "code",
   "execution_count": 6,
   "metadata": {},
   "outputs": [
    {
     "data": {
      "text/plain": [
       "Date  Date\n",
       "2010  6       1768530\n",
       "      7       3162325\n",
       "      8        722650\n",
       "      9        870375\n",
       "      10       316900\n",
       "               ...   \n",
       "2020  10      5535663\n",
       "      11      4984508\n",
       "      12      6890093\n",
       "2021  1       4161226\n",
       "      2        671076\n",
       "Name: volume, Length: 129, dtype: int64"
      ]
     },
     "execution_count": 6,
     "metadata": {},
     "output_type": "execute_result"
    }
   ],
   "source": [
    "# Specify the way you want to group things -- here we are using the datetimeindex\n",
    "groupby_levels = [tesla_volume.index.year, tesla_volume.index.month]\n",
    "\n",
    "# Then Groupby that, choosing an aggregation function\n",
    "total_monthly_volume = tesla_volume.groupby(by=groupby_levels).sum()\n",
    "total_monthly_volume"
   ]
  },
  {
   "cell_type": "code",
   "execution_count": 7,
   "metadata": {},
   "outputs": [
    {
     "data": {
      "text/plain": [
       "4677177.0"
      ]
     },
     "execution_count": 7,
     "metadata": {},
     "output_type": "execute_result"
    }
   ],
   "source": [
    "# We can do summary statistics on the aggregated data we just created\n",
    "# For Example: View the median amount of monthly shares traded\n",
    "median_monthly_volume = total_monthly_volume.median()\n",
    "median_monthly_volume"
   ]
  },
  {
   "cell_type": "code",
   "execution_count": 8,
   "metadata": {
    "scrolled": true
   },
   "outputs": [
    {
     "data": {
      "text/plain": [
       "0.8896875187746797"
      ]
     },
     "execution_count": 8,
     "metadata": {},
     "output_type": "execute_result"
    }
   ],
   "source": [
    "# Compare the shares traded in January 2021 to the median amount that get traded each month\n",
    "jan_2021_volume / median_monthly_volume"
   ]
  },
  {
   "cell_type": "markdown",
   "metadata": {},
   "source": [
    "The result is that January 2021 volume was about 12% below that of the typical amount of Tesla shares that get traded each month. "
   ]
  }
 ],
 "metadata": {
  "kernelspec": {
   "display_name": "Python 3",
   "language": "python",
   "name": "python3"
  },
  "language_info": {
   "codemirror_mode": {
    "name": "ipython",
    "version": 3
   },
   "file_extension": ".py",
   "mimetype": "text/x-python",
   "name": "python",
   "nbconvert_exporter": "python",
   "pygments_lexer": "ipython3",
   "version": "3.7.7"
  }
 },
 "nbformat": 4,
 "nbformat_minor": 4
}

{
 "cells": [
  {
   "cell_type": "markdown",
   "metadata": {},
   "source": [
    "# Exception Handling\n",
    "\n",
    "In this activity you are given a list of cryptocurrencies, of which only some are valid. Your goal is to make a request for each coin and if it was a valid coin, append the `json` data to a list of valid coins. If it was not a valid coin then append the name of the coin to another list of invalid coins.\n",
    "\n",
    ">**Hint**: You may need to check the json to see where the error is being handled."
   ]
  },
  {
   "cell_type": "markdown",
   "metadata": {},
   "source": [
    "## 1. Import Modules"
   ]
  },
  {
   "cell_type": "code",
   "execution_count": 1,
   "metadata": {},
   "outputs": [],
   "source": [
    "# Import Modules\n",
    "import requests\n",
    "import json\n"
   ]
  },
  {
   "cell_type": "markdown",
   "metadata": {},
   "source": [
    "## 2. Use the [Free Crypto API](https://alternative.me/crypto/api/) ticker endpoint"
   ]
  },
  {
   "cell_type": "code",
   "execution_count": 2,
   "metadata": {},
   "outputs": [],
   "source": [
    "# The end point requires either the currency name or the id after the last slash.\n",
    "url = \"https://api.alternative.me/v2/ticker/\"\n"
   ]
  },
  {
   "cell_type": "markdown",
   "metadata": {},
   "source": [
    "## 3. Use `coin_list` for a List of Currency Names\n",
    "  - There are too many coins to manually sort through.\n",
    "  - You will iterate over each coin name in the list passing in the coin_name for each API call."
   ]
  },
  {
   "cell_type": "code",
   "execution_count": 3,
   "metadata": {},
   "outputs": [],
   "source": [
    "coin_list = [\n",
    "    \"vere\",\n",
    "    \"nushares\",\n",
    "    \"monetaryunit\",\n",
    "    \"blocknet\",\n",
    "    \"gapcoin\",\n",
    "    \"crown\",\n",
    "    \"bitbay\",\n",
    "    \"gcn-coin\",\n",
    "    \"quotient\",\n",
    "    \"bitcoin-fast\",\n",
    "    \"okcash\",\n",
    "    \"unitus\",\n",
    "    \"goldpieces\",\n",
    "    \"circuits-of-value\",\n",
    "    \"nexus\",\n",
    "    \"inakoin\",\n",
    "    \"gxchain\",\n",
    "    \"bitradio\",\n",
    "    \"flash\",\n",
    "    \"funfair\",\n",
    "    \"tenx\",\n",
    "    \"status\",\n",
    "    \"chancoin\",\n",
    "    \"ergo\",\n",
    "    \"eos\",\n",
    "    \"adex\",\n",
    "    \"denarius\",\n",
    "    \"storj\",\n",
    "    \"adtoken\",\n",
    "    \"cryptoping\",\n",
    "    \"wagerrr\",\n",
    "    \"ecobit\",\n",
    "    \"universalroyalcoin\",\n",
    "    \"polybus\",\n",
    "    \"gas\",\n",
    "    \"freebie\",\n",
    "    \"suncontract\",\n",
    "    \"jetcoin\",\n",
    "    \"metal\",\n",
    "    \"populous\",\n",
    "    \"womencoin\",\n",
    "    \"rupee\",\n",
    "    \"peepcoin\",\n",
    "    \"santiment-network-token\",\n",
    "    \"omisego\",\n",
    "]"
   ]
  },
  {
   "cell_type": "markdown",
   "metadata": {},
   "source": [
    "## 4. Loop Over Coin List\n",
    "  - Check each coin in `coin_list`.\n",
    "  - Using `url` and the coin name, make a get request to the api using [`request.get`](https://requests.readthedocs.io/en/master/user/quickstart/#response-content).\n",
    "  - Check if the response is valid.\n",
    "  - Catch any server errors and print the trace.\n",
    "  - Append valid coins' `json` data to the `valid_coins` list.\n",
    "  - Append invalid coin names to the `invalid_coins` list.\n",
    "\n",
    "\n",
    "\n",
    ">**Hint**: Are there any errors in the `response` metadata?"
   ]
  },
  {
   "cell_type": "code",
   "execution_count": 4,
   "metadata": {},
   "outputs": [
    {
     "name": "stdout",
     "output_type": "stream",
     "text": [
      "Processed the following coin: vere\n",
      "\n",
      "Processed the following coin: nushares\n",
      "\n",
      "Processed the following coin: monetaryunit\n",
      "\n",
      "Processed the following coin: blocknet\n",
      "\n",
      "Processed the following coin: gapcoin\n",
      "\n",
      "Processed the following coin: crown\n",
      "\n",
      "Processed the following coin: bitbay\n",
      "\n",
      "Processed the following coin: gcn-coin\n",
      "\n",
      "Processed the following coin: quotient\n",
      "\n",
      "Processed the following coin: bitcoin-fast\n",
      "\n",
      "Processed the following coin: okcash\n",
      "\n",
      "Processed the following coin: unitus\n",
      "\n",
      "Processed the following coin: goldpieces\n",
      "\n",
      "Processed the following coin: circuits-of-value\n",
      "\n",
      "Processed the following coin: nexus\n",
      "\n",
      "Processed the following coin: inakoin\n",
      "\n",
      "Processed the following coin: gxchain\n",
      "\n",
      "Processed the following coin: bitradio\n",
      "\n",
      "Processed the following coin: flash\n",
      "\n",
      "Processed the following coin: funfair\n",
      "\n",
      "Processed the following coin: tenx\n",
      "\n",
      "Processed the following coin: status\n",
      "\n",
      "Processed the following coin: chancoin\n",
      "\n",
      "Processed the following coin: ergo\n",
      "\n",
      "Processed the following coin: eos\n",
      "\n",
      "Processed the following coin: adex\n",
      "\n",
      "Processed the following coin: denarius\n",
      "\n",
      "Processed the following coin: storj\n",
      "\n",
      "Processed the following coin: adtoken\n",
      "\n",
      "Processed the following coin: cryptoping\n",
      "\n",
      "Processed the following coin: wagerrr\n",
      "\n",
      "Processed the following coin: ecobit\n",
      "\n",
      "Processed the following coin: universalroyalcoin\n",
      "\n",
      "Processed the following coin: polybus\n",
      "\n",
      "Processed the following coin: gas\n",
      "\n",
      "Processed the following coin: freebie\n",
      "\n",
      "Processed the following coin: suncontract\n",
      "\n",
      "Processed the following coin: jetcoin\n",
      "\n",
      "Processed the following coin: metal\n",
      "\n",
      "Processed the following coin: populous\n",
      "\n",
      "Processed the following coin: womencoin\n",
      "\n",
      "Processed the following coin: rupee\n",
      "\n",
      "Processed the following coin: peepcoin\n",
      "\n",
      "Processed the following coin: santiment-network-token\n",
      "\n",
      "Processed the following coin: omisego\n",
      "\n"
     ]
    }
   ],
   "source": [
    "# Populate these lists.\n",
    "# Put the json data in valid_coins\n",
    "# Put invalid coin names in invalid_coins\n",
    "valid_coins = []\n",
    "invalid_coins = []\n",
    "\n",
    "# Loop over each coin in the coin list\n",
    "for coin in coin_list:\n",
    "    try:\n",
    "        coin_url = url + f\"{coin}/\"\n",
    "        response = requests.get(coin_url)\n",
    "\n",
    "        # Check Status Codes\n",
    "        if response.status_code == 200:\n",
    "\n",
    "            response = response.json()\n",
    "\n",
    "            # The error was handled by the server and the error is in the response metadata\n",
    "            if response[\"metadata\"][\"error\"] == None:\n",
    "                valid_coins.append(response[\"data\"])\n",
    "            else:\n",
    "                invalid_coins.append(coin)\n",
    "        else:\n",
    "            print(f\"Unable to find the following coin: {coin}\")\n",
    "            invalid_coins.append(coin)\n",
    "\n",
    "    except Exception as error:\n",
    "        # If an exception occurs in the try portion, the code in this branch will be executed.\n",
    "        print(f\"Unable to connect to the server at url: {coin_url}.\\nError:\\n{error}\")\n",
    "        invalid_coins.append(coin)\n",
    "    finally:\n",
    "        # Everything in finally will be executed regardless of try/except\n",
    "        print(f\"Processed the following coin: {coin}\\n\")\n"
   ]
  },
  {
   "cell_type": "markdown",
   "metadata": {},
   "source": [
    "## 5. Print the Results"
   ]
  },
  {
   "cell_type": "code",
   "execution_count": 5,
   "metadata": {},
   "outputs": [
    {
     "name": "stdout",
     "output_type": "stream",
     "text": [
      "[{'699': {'id': 699, 'name': 'NuShares', 'symbol': 'NSR', 'website_slug': 'nushares', 'rank': 5750, 'circulating_supply': 0, 'total_supply': 0, 'max_supply': 1000000000, 'quotes': {'USD': {'price': 0.00039286, 'volume_24h': 1311, 'market_cap': 0, 'percentage_change_1h': -4.4390037111371, 'percentage_change_24h': 31.3313724190473, 'percentage_change_7d': 362.064054322675, 'percent_change_1h': -4.4390037111371, 'percent_change_24h': 31.3313724190473, 'percent_change_7d': 362.064054322675}}, 'last_updated': 1609946944}}, {'706': {'id': 706, 'name': 'MonetaryUnit', 'symbol': 'MUE', 'website_slug': 'monetaryunit', 'rank': 1208, 'circulating_supply': 210671910, 'total_supply': 210671910, 'max_supply': 1000000000000000, 'quotes': {'USD': {'price': 0.0035701, 'volume_24h': 4758, 'market_cap': 752120, 'percentage_change_1h': 27.0732585953233, 'percentage_change_24h': 5.40581472758303, 'percentage_change_7d': 10.0489817763641, 'percent_change_1h': 27.0732585953233, 'percent_change_24h': 5.40581472758303, 'percent_change_7d': 10.0489817763641}}, 'last_updated': 1609961633}}, {'707': {'id': 707, 'name': 'Blocknet', 'symbol': 'BLOCK', 'website_slug': 'blocknet', 'rank': 409, 'circulating_supply': 7409303, 'total_supply': 7409303, 'max_supply': 0, 'quotes': {'USD': {'price': 1.8, 'volume_24h': 22097, 'market_cap': 13371258, 'percentage_change_1h': -2.44812044926255, 'percentage_change_24h': -2.01186127030951, 'percentage_change_7d': -2.75924452474289, 'percent_change_1h': -2.44812044926255, 'percent_change_24h': -2.01186127030951, 'percent_change_7d': -2.75924452474289}}, 'last_updated': 1609963832}}, {'708': {'id': 708, 'name': 'Gapcoin', 'symbol': 'GAP', 'website_slug': 'gapcoin', 'rank': 1677, 'circulating_supply': 16387625, 'total_supply': 16387625, 'max_supply': 0, 'quotes': {'USD': {'price': 0.01010546, 'volume_24h': 0, 'market_cap': 165605, 'percentage_change_1h': None, 'percentage_change_24h': -6.87741792206324, 'percentage_change_7d': -41.6044124307453, 'percent_change_1h': None, 'percent_change_24h': -6.87741792206324, 'percent_change_7d': -41.6044124307453}}, 'last_updated': 1609963668}}, {'720': {'id': 720, 'name': 'Crown', 'symbol': 'CRW', 'website_slug': 'crown', 'rank': 881, 'circulating_supply': 26326128, 'total_supply': 26326128, 'max_supply': 42000000, 'quotes': {'USD': {'price': 0.081818, 'volume_24h': 14163, 'market_cap': 2153947, 'percentage_change_1h': -5.05255757565538, 'percentage_change_24h': -5.85712605734409, 'percentage_change_7d': -6.12872508733633, 'percent_change_1h': -5.05255757565538, 'percent_change_24h': -5.85712605734409, 'percent_change_7d': -6.12872508733633}}, 'last_updated': 1609964289}}, {'723': {'id': 723, 'name': 'BitBay', 'symbol': 'BAY', 'website_slug': 'bitbay', 'rank': 8777, 'circulating_supply': 0, 'total_supply': 0, 'max_supply': 1029153366, 'quotes': {'USD': {'price': 0.398324, 'volume_24h': 523, 'market_cap': 0, 'percentage_change_1h': 0.384793648142844, 'percentage_change_24h': 4.98545024646911, 'percentage_change_7d': 27.1815428536057, 'percent_change_1h': 0.384793648142844, 'percent_change_24h': 4.98545024646911, 'percent_change_7d': 27.1815428536057}}, 'last_updated': 1609962563}}, {'730': {'id': 730, 'name': 'GCN Coin', 'symbol': 'GCN', 'website_slug': 'gcn-coin', 'rank': 1736, 'circulating_supply': 149381200000, 'total_supply': 149381200000, 'max_supply': 200000000000, 'quotes': {'USD': {'price': 9.2e-07, 'volume_24h': 186, 'market_cap': 137224, 'percentage_change_1h': 186.946337324884, 'percentage_change_24h': 348.10911415279, 'percentage_change_7d': 604.990218228104, 'percent_change_1h': 186.946337324884, 'percent_change_24h': 348.10911415279, 'percent_change_7d': 604.990218228104}}, 'last_updated': 1609964628}}, {'733': {'id': 733, 'name': 'Quotient', 'symbol': 'XQN', 'website_slug': 'quotient', 'rank': 7662, 'circulating_supply': 0, 'total_supply': 0, 'max_supply': 0, 'quotes': {'USD': {'price': 0.00012096, 'volume_24h': 0, 'market_cap': 0, 'percentage_change_1h': None, 'percentage_change_24h': None, 'percentage_change_7d': None, 'percent_change_1h': None, 'percent_change_24h': None, 'percent_change_7d': None}}, 'last_updated': 1609859079}}, {'747': {'id': 747, 'name': 'Bitcoin Fast', 'symbol': 'BCF', 'website_slug': 'bitcoin-fast', 'rank': 1850, 'circulating_supply': 25891956, 'total_supply': 25891956, 'max_supply': 21000000, 'quotes': {'USD': {'price': 0.0035177, 'volume_24h': 9, 'market_cap': 91080, 'percentage_change_1h': -24.1175948419898, 'percentage_change_24h': 198.494583222048, 'percentage_change_7d': -32.2443471301353, 'percent_change_1h': -24.1175948419898, 'percent_change_24h': 198.494583222048, 'percent_change_7d': -32.2443471301353}}, 'last_updated': 1609963668}}, {'760': {'id': 760, 'name': 'OKCash', 'symbol': 'OK', 'website_slug': 'okcash', 'rank': 794, 'circulating_supply': 78453534, 'total_supply': 78453534, 'max_supply': 105000000, 'quotes': {'USD': {'price': 0.03590289, 'volume_24h': 28725, 'market_cap': 2816708, 'percentage_change_1h': 5.63037068021837, 'percentage_change_24h': 1.45777577481192, 'percentage_change_7d': 14.2365930580738, 'percent_change_1h': 5.63037068021837, 'percent_change_24h': 1.45777577481192, 'percent_change_7d': 14.2365930580738}}, 'last_updated': 1609963912}}, {'781': {'id': 781, 'name': 'Unitus', 'symbol': 'UIS', 'website_slug': 'unitus', 'rank': 6267, 'circulating_supply': 0, 'total_supply': 0, 'max_supply': 0, 'quotes': {'USD': {'price': 0.00034983, 'volume_24h': 72, 'market_cap': 0, 'percentage_change_1h': -0.121296840351318, 'percentage_change_24h': 58.8891131708112, 'percentage_change_7d': -37.446770564898, 'percent_change_1h': -0.121296840351318, 'percent_change_24h': 58.8891131708112, 'percent_change_7d': -37.446770564898}}, 'last_updated': 1609954316}}, {'785': {'id': 785, 'name': 'GoldPieces', 'symbol': 'GP', 'website_slug': 'goldpieces', 'rank': 6573, 'circulating_supply': 0, 'total_supply': 0, 'max_supply': 0, 'quotes': {'USD': {'price': 0.01093142, 'volume_24h': 16, 'market_cap': 0, 'percentage_change_1h': 4.04104446455335, 'percentage_change_24h': 7.39206440268501, 'percentage_change_7d': 64.5663792309469, 'percent_change_1h': 4.04104446455335, 'percent_change_24h': 7.39206440268501, 'percent_change_7d': 64.5663792309469}}, 'last_updated': 1609961586}}, {'788': {'id': 788, 'name': 'Circuits of Value', 'symbol': 'COVAL', 'website_slug': 'circuits-of-value', 'rank': 987, 'circulating_supply': 1452305163, 'total_supply': 1452305163, 'max_supply': 1752135121, 'quotes': {'USD': {'price': 0.00101413, 'volume_24h': 15693, 'market_cap': 1472822, 'percentage_change_1h': 3.54428479439702, 'percentage_change_24h': 1.8321645212223, 'percentage_change_7d': -27.8262353391472, 'percent_change_1h': 3.54428479439702, 'percent_change_24h': 1.8321645212223, 'percent_change_7d': -27.8262353391472}}, 'last_updated': 1609960923}}, {'789': {'id': 789, 'name': 'Nexus', 'symbol': 'NXS', 'website_slug': 'nexus', 'rank': 364, 'circulating_supply': 67667667, 'total_supply': 67667667, 'max_supply': 78000000, 'quotes': {'USD': {'price': 0.272045, 'volume_24h': 418313, 'market_cap': 18408653, 'percentage_change_1h': -5.85480145859819, 'percentage_change_24h': 2.7087426013455, 'percentage_change_7d': 28.1172803013105, 'percent_change_1h': -5.85480145859819, 'percent_change_24h': 2.7087426013455, 'percent_change_7d': 28.1172803013105}}, 'last_updated': 1609964471}}, {'1750': {'id': 1750, 'name': 'GXChain', 'symbol': 'GXC', 'website_slug': 'gxchain', 'rank': 325, 'circulating_supply': 70000000, 'total_supply': 70000000, 'max_supply': 100000000, 'quotes': {'USD': {'price': 0.320809, 'volume_24h': 9924828, 'market_cap': 22413280, 'percentage_change_1h': -1.8965021770428, 'percentage_change_24h': 6.44357135499101, 'percentage_change_7d': 1.52378465033433, 'percent_change_1h': -1.8965021770428, 'percent_change_24h': 6.44357135499101, 'percent_change_7d': 1.52378465033433}}, 'last_updated': 1609964694}}, {'1754': {'id': 1754, 'name': 'Bitradio', 'symbol': 'BRO', 'website_slug': 'bitradio', 'rank': 1699, 'circulating_supply': 14554331, 'total_supply': 14554331, 'max_supply': 10834666, 'quotes': {'USD': {'price': 0.01045187, 'volume_24h': 27, 'market_cap': 155425, 'percentage_change_1h': -2.1261653427651, 'percentage_change_24h': -0.801570549896129, 'percentage_change_7d': 3.48842088346214, 'percent_change_1h': -2.1261653427651, 'percent_change_24h': -0.801570549896129, 'percent_change_7d': 3.48842088346214}}, 'last_updated': 1609964663}}, {'1755': {'id': 1755, 'name': 'Flash', 'symbol': 'FLASH', 'website_slug': 'flash', 'rank': 5382, 'circulating_supply': 0, 'total_supply': 0, 'max_supply': 900000000, 'quotes': {'USD': {'price': 0.00568987, 'volume_24h': 309, 'market_cap': 0, 'percentage_change_1h': 0.85666259856838, 'percentage_change_24h': -6.72879150945433, 'percentage_change_7d': 5.20321788240502, 'percent_change_1h': 0.85666259856838, 'percent_change_24h': -6.72879150945433, 'percent_change_7d': 5.20321788240502}}, 'last_updated': 1609962373}}, {'1757': {'id': 1757, 'name': 'FunFair', 'symbol': 'FUN', 'website_slug': 'funfair', 'rank': 146, 'circulating_supply': 6014092389, 'total_supply': 6014092389, 'max_supply': 10999873621, 'quotes': {'USD': {'price': 0.01310566, 'volume_24h': 34001887, 'market_cap': 78818634, 'percentage_change_1h': -2.21302201272257, 'percentage_change_24h': 6.43338020616566, 'percentage_change_7d': 187.73607106867, 'percent_change_1h': -2.21302201272257, 'percent_change_24h': 6.43338020616566, 'percent_change_7d': 187.73607106867}}, 'last_updated': 1609964551}}, {'1758': {'id': 1758, 'name': 'TenX', 'symbol': 'PAY', 'website_slug': 'tenx', 'rank': 566, 'circulating_supply': 118141601, 'total_supply': 118141601, 'max_supply': 205218256, 'quotes': {'USD': {'price': 0.054857, 'volume_24h': 36915464, 'market_cap': 6480875, 'percentage_change_1h': -1.41944587871976, 'percentage_change_24h': -3.34766353308738, 'percentage_change_7d': -2.42802976014608, 'percent_change_1h': -1.41944587871976, 'percent_change_24h': -3.34766353308738, 'percent_change_7d': -2.42802976014608}}, 'last_updated': 1609964515}}, {'1759': {'id': 1759, 'name': 'Status', 'symbol': 'SNT', 'website_slug': 'status', 'rank': 91, 'circulating_supply': 3880483788, 'total_supply': 3880483788, 'max_supply': 6804870174, 'quotes': {'USD': {'price': 0.050065, 'volume_24h': 178657642, 'market_cap': 193119118, 'percentage_change_1h': -2.28534504594311, 'percentage_change_24h': 33.3333000424996, 'percentage_change_7d': 50.0863677980512, 'percent_change_1h': -2.28534504594311, 'percent_change_24h': 33.3333000424996, 'percent_change_7d': 50.0863677980512}}, 'last_updated': 1609964663}}, {'1760': {'id': 1760, 'name': 'ChanCoin', 'symbol': 'CHAN', 'website_slug': 'chancoin', 'rank': 2322, 'circulating_supply': 22466980, 'total_supply': 22466980, 'max_supply': 0, 'quotes': {'USD': {'price': 0.00034915, 'volume_24h': 15, 'market_cap': 7844, 'percentage_change_1h': None, 'percentage_change_24h': 0.753156468011688, 'percentage_change_7d': 32.9162511890188, 'percent_change_1h': None, 'percent_change_24h': 0.753156468011688, 'percent_change_7d': 32.9162511890188}}, 'last_updated': 1609950837}}, {'1762': {'id': 1762, 'name': 'Ergo', 'symbol': 'ERG', 'website_slug': 'ergo', 'rank': 386, 'circulating_supply': 29925150, 'total_supply': 29925150, 'max_supply': 97739924, 'quotes': {'USD': {'price': 0.512388, 'volume_24h': 604819, 'market_cap': 15333286, 'percentage_change_1h': -3.01494508895495, 'percentage_change_24h': 16.1571261271719, 'percentage_change_7d': 27.1612098946378, 'percent_change_1h': -3.01494508895495, 'percent_change_24h': 16.1571261271719, 'percent_change_7d': 27.1612098946378}}, 'last_updated': 1609964487}}, {'1765': {'id': 1765, 'name': 'EOS', 'symbol': 'EOS', 'website_slug': 'eos', 'rank': 15, 'circulating_supply': 950110973, 'total_supply': 950110973, 'max_supply': 0, 'quotes': {'USD': {'price': 3.22, 'volume_24h': 4085284142, 'market_cap': 3054397211, 'percentage_change_1h': -5.54591487525728, 'percentage_change_24h': 11.2846163348139, 'percentage_change_7d': 21.8589049822999, 'percent_change_1h': -5.54591487525728, 'percent_change_24h': 11.2846163348139, 'percent_change_7d': 21.8589049822999}}, 'last_updated': 1609964578}}, {'1768': {'id': 1768, 'name': 'AdEx', 'symbol': 'ADX', 'website_slug': 'adex', 'rank': 224, 'circulating_supply': 113037673, 'total_supply': 113037673, 'max_supply': 120180149, 'quotes': {'USD': {'price': 0.379586, 'volume_24h': 3025030, 'market_cap': 42677664, 'percentage_change_1h': -1.64886352774368, 'percentage_change_24h': 1.02097977128377, 'percentage_change_7d': 22.4740230321854, 'percent_change_1h': -1.64886352774368, 'percent_change_24h': 1.02097977128377, 'percent_change_7d': 22.4740230321854}}, 'last_updated': 1609964654}}, {'1769': {'id': 1769, 'name': 'Denarius', 'symbol': 'D', 'website_slug': 'denarius', 'rank': 833, 'circulating_supply': 7466854, 'total_supply': 7466854, 'max_supply': 10000000, 'quotes': {'USD': {'price': 0.338026, 'volume_24h': 33, 'market_cap': 2523993, 'percentage_change_1h': None, 'percentage_change_24h': -3.58528907900076, 'percentage_change_7d': 67.5712308511631, 'percent_change_1h': None, 'percent_change_24h': -3.58528907900076, 'percent_change_7d': 67.5712308511631}}, 'last_updated': 1609962306}}, {'1772': {'id': 1772, 'name': 'Storj', 'symbol': 'STORJ', 'website_slug': 'storj', 'rank': 198, 'circulating_supply': 143787439, 'total_supply': 143787439, 'max_supply': 424999998, 'quotes': {'USD': {'price': 0.337982, 'volume_24h': 25602592, 'market_cap': 48597528, 'percentage_change_1h': -4.00253215334569, 'percentage_change_24h': 7.50229124188903, 'percentage_change_7d': 13.226042878927, 'percent_change_1h': -4.00253215334569, 'percent_change_24h': 7.50229124188903, 'percent_change_7d': 13.226042878927}}, 'last_updated': 1609964577}}, {'1775': {'id': 1775, 'name': 'adToken', 'symbol': 'ADT', 'website_slug': 'adtoken', 'rank': 1292, 'circulating_supply': 824000000, 'total_supply': 824000000, 'max_supply': 1000000000, 'quotes': {'USD': {'price': 0.00070072, 'volume_24h': 3597, 'market_cap': 577391, 'percentage_change_1h': None, 'percentage_change_24h': 10.0885681212015, 'percentage_change_7d': 27.7677530435802, 'percent_change_1h': None, 'percent_change_24h': 10.0885681212015, 'percent_change_7d': 27.7677530435802}}, 'last_updated': 1609963457}}, {'1777': {'id': 1777, 'name': 'CryptoPing', 'symbol': 'PING', 'website_slug': 'cryptoping', 'rank': 665, 'circulating_supply': 8999636, 'total_supply': 8999636, 'max_supply': 10000000, 'quotes': {'USD': {'price': 0.470383, 'volume_24h': 52562, 'market_cap': 4357342, 'percentage_change_1h': -3.39730144658057, 'percentage_change_24h': -6.62951380703184, 'percentage_change_7d': 1.41199760494015, 'percent_change_1h': -3.39730144658057, 'percent_change_24h': -6.62951380703184, 'percent_change_7d': 1.41199760494015}}, 'last_updated': 1609964611}}, {'1782': {'id': 1782, 'name': 'Ecobit', 'symbol': 'ECOB', 'website_slug': 'ecobit', 'rank': 5472, 'circulating_supply': 0, 'total_supply': 0, 'max_supply': 8888888888, 'quotes': {'USD': {'price': 0.00119126, 'volume_24h': 0, 'market_cap': 0, 'percentage_change_1h': None, 'percentage_change_24h': 1.84269253298586, 'percentage_change_7d': -11.2852276750469, 'percent_change_1h': None, 'percent_change_24h': 1.84269253298586, 'percent_change_7d': -11.2852276750469}}, 'last_updated': 1609907701}}, {'1783': {'id': 1783, 'name': 'UniversalRoyalCoin', 'symbol': 'UNRC', 'website_slug': 'universalroyalcoin', 'rank': 6584, 'circulating_supply': 0, 'total_supply': 0, 'max_supply': 0, 'quotes': {'USD': {'price': 6.021e-05, 'volume_24h': 48, 'market_cap': 0, 'percentage_change_1h': None, 'percentage_change_24h': None, 'percentage_change_7d': None, 'percent_change_1h': None, 'percent_change_24h': None, 'percent_change_7d': None}}, 'last_updated': 1608838455}}, {'1785': {'id': 1785, 'name': 'Gas', 'symbol': 'GAS', 'website_slug': 'gas', 'rank': 329, 'circulating_supply': 13935116, 'total_supply': 13935116, 'max_supply': 100000000, 'quotes': {'USD': {'price': 1.56, 'volume_24h': 6126721, 'market_cap': 21755058, 'percentage_change_1h': -3.59540690767742, 'percentage_change_24h': 2.36878519855978, 'percentage_change_7d': 1.60570829681187, 'percent_change_1h': -3.59540690767742, 'percent_change_24h': 2.36878519855978, 'percent_change_7d': 1.60570829681187}}, 'last_updated': 1609964573}}, {'1786': {'id': 1786, 'name': 'SunContract', 'symbol': 'SNC', 'website_slug': 'suncontract', 'rank': 502, 'circulating_supply': 122707503, 'total_supply': 122707503, 'max_supply': 122707503, 'quotes': {'USD': {'price': 0.068658, 'volume_24h': 566755, 'market_cap': 8467376, 'percentage_change_1h': -3.93158590108779, 'percentage_change_24h': 5.89576627844027, 'percentage_change_7d': 91.9471443369827, 'percent_change_1h': -3.93158590108779, 'percent_change_24h': 5.89576627844027, 'percent_change_7d': 91.9471443369827}}, 'last_updated': 1609964508}}, {'1787': {'id': 1787, 'name': 'Jetcoin', 'symbol': 'JET', 'website_slug': 'jetcoin', 'rank': 1476, 'circulating_supply': 9768025, 'total_supply': 9768025, 'max_supply': 80000000, 'quotes': {'USD': {'price': 0.03205517, 'volume_24h': 920349, 'market_cap': 313116, 'percentage_change_1h': -5.37292267702663, 'percentage_change_24h': 4.85748842823287, 'percentage_change_7d': 81.9891943154507, 'percent_change_1h': -5.37292267702663, 'percent_change_24h': 4.85748842823287, 'percent_change_7d': 81.9891943154507}}, 'last_updated': 1609963832}}, {'1788': {'id': 1788, 'name': 'Metal', 'symbol': 'MTL', 'website_slug': 'metal', 'rank': 304, 'circulating_supply': 64633864, 'total_supply': 64633864, 'max_supply': 66588888, 'quotes': {'USD': {'price': 0.387824, 'volume_24h': 6486571, 'market_cap': 25138008, 'percentage_change_1h': -3.17884323568277, 'percentage_change_24h': 2.92995649993144, 'percentage_change_7d': 8.18563775785267, 'percent_change_1h': -3.17884323568277, 'percent_change_24h': 2.92995649993144, 'percent_change_7d': 8.18563775785267}}, 'last_updated': 1609964563}}, {'1789': {'id': 1789, 'name': 'Populous', 'symbol': 'PPT', 'website_slug': 'populous', 'rank': 312, 'circulating_supply': 36226899, 'total_supply': 36226899, 'max_supply': 53252246, 'quotes': {'USD': {'price': 0.657075, 'volume_24h': 2156542, 'market_cap': 23781914, 'percentage_change_1h': -3.04762603262763, 'percentage_change_24h': -0.510853051176056, 'percentage_change_7d': 50.4799213392808, 'percent_change_1h': -3.04762603262763, 'percent_change_24h': -0.510853051176056, 'percent_change_7d': 50.4799213392808}}, 'last_updated': 1609964613}}, {'1790': {'id': 1790, 'name': 'WomenCoin', 'symbol': 'WOMEN', 'website_slug': 'womencoin', 'rank': 1780, 'circulating_supply': 55208792986, 'total_supply': 55208792986, 'max_supply': 90000000000, 'quotes': {'USD': {'price': 2.19e-06, 'volume_24h': 7, 'market_cap': 120934, 'percentage_change_1h': None, 'percentage_change_24h': 60.5869884431873, 'percentage_change_7d': 6.61697974231582, 'percent_change_1h': None, 'percent_change_24h': 60.5869884431873, 'percent_change_7d': 6.61697974231582}}, 'last_updated': 1609945447}}, {'1799': {'id': 1799, 'name': 'Rupee', 'symbol': 'RUP', 'website_slug': 'rupee', 'rank': 6263, 'circulating_supply': 0, 'total_supply': 0, 'max_supply': 84000000, 'quotes': {'USD': {'price': 0.00599603, 'volume_24h': 4, 'market_cap': 0, 'percentage_change_1h': None, 'percentage_change_24h': -19.8675844866536, 'percentage_change_7d': 218.446651844523, 'percent_change_1h': None, 'percent_change_24h': -19.8675844866536, 'percent_change_7d': 218.446651844523}}, 'last_updated': 1609959035}}, {'1803': {'id': 1803, 'name': 'Peepcoin', 'symbol': 'PCN', 'website_slug': 'peepcoin', 'rank': 5751, 'circulating_supply': 1815, 'total_supply': 1815, 'max_supply': 57819073831, 'quotes': {'USD': {'price': 1.61e-06, 'volume_24h': 0, 'market_cap': 0, 'percentage_change_1h': None, 'percentage_change_24h': -48.7141577110052, 'percentage_change_7d': -36.0671783114295, 'percent_change_1h': None, 'percent_change_24h': -48.7141577110052, 'percent_change_7d': -36.0671783114295}}, 'last_updated': 1609949877}}, {'1807': {'id': 1807, 'name': 'Santiment Network Token', 'symbol': 'SAN', 'website_slug': 'santiment-network-token', 'rank': 615, 'circulating_supply': 64048080, 'total_supply': 64048080, 'max_supply': 83337000, 'quotes': {'USD': {'price': 0.083566, 'volume_24h': 28862, 'market_cap': 5342153, 'percentage_change_1h': -0.611790476760838, 'percentage_change_24h': 8.80471591354606, 'percentage_change_7d': -4.35397562078061, 'percent_change_1h': -0.611790476760838, 'percent_change_24h': 8.80471591354606, 'percent_change_7d': -4.35397562078061}}, 'last_updated': 1609964601}}, {'1808': {'id': 1808, 'name': 'OMG Network', 'symbol': 'OMG', 'website_slug': 'omisego', 'rank': 55, 'circulating_supply': 140245398, 'total_supply': 140245398, 'max_supply': 140245398, 'quotes': {'USD': {'price': 3.57, 'volume_24h': 456055774, 'market_cap': 499511428, 'percentage_change_1h': -7.6918619512452, 'percentage_change_24h': 2.15312318219584, 'percentage_change_7d': 38.7375803724757, 'percent_change_1h': -7.6918619512452, 'percent_change_24h': 2.15312318219584, 'percent_change_7d': 38.7375803724757}}, 'last_updated': 1609964591}}]\n"
     ]
    }
   ],
   "source": [
    "print(valid_coins)"
   ]
  },
  {
   "cell_type": "code",
   "execution_count": 6,
   "metadata": {},
   "outputs": [
    {
     "name": "stdout",
     "output_type": "stream",
     "text": [
      "['vere', 'inakoin', 'wagerrr', 'polybus', 'freebie']\n"
     ]
    }
   ],
   "source": [
    "print(invalid_coins)\n"
   ]
  }
 ],
 "metadata": {
  "kernelspec": {
   "display_name": "Python 3",
   "language": "python",
   "name": "python3"
  },
  "language_info": {
   "codemirror_mode": {
    "name": "ipython",
    "version": 3
   },
   "file_extension": ".py",
   "mimetype": "text/x-python",
   "name": "python",
   "nbconvert_exporter": "python",
   "pygments_lexer": "ipython3",
   "version": "3.7.3"
  }
 },
 "nbformat": 4,
 "nbformat_minor": 4
}

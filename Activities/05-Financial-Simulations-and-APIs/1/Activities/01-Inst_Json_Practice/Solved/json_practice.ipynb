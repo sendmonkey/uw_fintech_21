{
 "cells": [
  {
   "cell_type": "code",
   "execution_count": 1,
   "metadata": {},
   "outputs": [],
   "source": [
    "# Import modules\n",
    "from pathlib import Path\n",
    "import pandas as pd\n",
    "import json\n"
   ]
  },
  {
   "cell_type": "code",
   "execution_count": 2,
   "metadata": {},
   "outputs": [],
   "source": [
    "# Set file path\n",
    "saved_response_path = Path(\"../Resources/british_columbia_housing_data.json\")"
   ]
  },
  {
   "cell_type": "code",
   "execution_count": 3,
   "metadata": {},
   "outputs": [],
   "source": [
    "# Create a dictionary for the json object\n",
    "response = {}\n",
    "\n",
    "# Read json object into dictionary\n",
    "with open(saved_response_path, \"r\") as file_handle:\n",
    "    response = json.load(file_handle)"
   ]
  },
  {
   "cell_type": "code",
   "execution_count": 4,
   "metadata": {},
   "outputs": [
    {
     "data": {
      "text/plain": [
       "dict"
      ]
     },
     "execution_count": 4,
     "metadata": {},
     "output_type": "execute_result"
    }
   ],
   "source": [
    "# Disply object type\n",
    "type(response)"
   ]
  },
  {
   "cell_type": "code",
   "execution_count": 5,
   "metadata": {},
   "outputs": [
    {
     "name": "stdout",
     "output_type": "stream",
     "text": [
      "dataset,{'id': 34650752, 'dataset_code': 'HPPU50_BC', 'database_code': 'CMHC', 'name': 'Average, Median and Price Percentiles for Unabsorbed Homeowner and Condominium Units (Provinces) - British Columbia', 'description': 'Average, Median and Price Percentiles for Unabsorbed Homeowner and Condominium Units (Provinces). For more information, please see <a href=https://www03.cmhc-schl.gc.ca/hmip-pimh/en/TableMapChart/ScsMasMethodology>https://www03.cmhc-schl.gc.ca/hmip-pimh/en/TableMapChart/ScsMasMethodology</a>', 'refreshed_at': '2021-01-01T03:25:42.027Z', 'newest_available_date': '2020-11-30', 'oldest_available_date': '1990-01-31', 'column_names': ['Date', '1st 20%', '2nd 40%', '3rd 60%', '4th 80%', 'Median', 'Average', 'Units'], 'frequency': 'monthly', 'type': 'Time Series', 'premium': False, 'limit': None, 'transform': None, 'column_index': None, 'start_date': '2020-11-30', 'end_date': '2020-11-30', 'data': [['2020-11-30', 870000.0, 1245000.0, 1640000.0, 2542000.0, 1450000.0, 1924937.0, 1051.0]], 'collapse': None, 'order': None, 'database_id': 234}\n",
      "\n"
     ]
    }
   ],
   "source": [
    "# Print each key, value pair in the dictionary.\n",
    "for key, value in response.items():\n",
    "    print(f\"{key},{value}\\n\")"
   ]
  },
  {
   "cell_type": "code",
   "execution_count": 6,
   "metadata": {},
   "outputs": [
    {
     "name": "stdout",
     "output_type": "stream",
     "text": [
      "id |===> 34650752\n",
      "\n",
      "dataset_code |===> HPPU50_BC\n",
      "\n",
      "database_code |===> CMHC\n",
      "\n",
      "name |===> Average, Median and Price Percentiles for Unabsorbed Homeowner and Condominium Units (Provinces) - British Columbia\n",
      "\n",
      "description |===> Average, Median and Price Percentiles for Unabsorbed Homeowner and Condominium Units (Provinces). For more information, please see <a href=https://www03.cmhc-schl.gc.ca/hmip-pimh/en/TableMapChart/ScsMasMethodology>https://www03.cmhc-schl.gc.ca/hmip-pimh/en/TableMapChart/ScsMasMethodology</a>\n",
      "\n",
      "refreshed_at |===> 2021-01-01T03:25:42.027Z\n",
      "\n",
      "newest_available_date |===> 2020-11-30\n",
      "\n",
      "oldest_available_date |===> 1990-01-31\n",
      "\n",
      "column_names |===> ['Date', '1st 20%', '2nd 40%', '3rd 60%', '4th 80%', 'Median', 'Average', 'Units']\n",
      "\n",
      "frequency |===> monthly\n",
      "\n",
      "type |===> Time Series\n",
      "\n",
      "premium |===> False\n",
      "\n",
      "limit |===> None\n",
      "\n",
      "transform |===> None\n",
      "\n",
      "column_index |===> None\n",
      "\n",
      "start_date |===> 2020-11-30\n",
      "\n",
      "end_date |===> 2020-11-30\n",
      "\n",
      "data |===> [['2020-11-30', 870000.0, 1245000.0, 1640000.0, 2542000.0, 1450000.0, 1924937.0, 1051.0]]\n",
      "\n",
      "collapse |===> None\n",
      "\n",
      "order |===> None\n",
      "\n",
      "database_id |===> 234\n",
      "\n"
     ]
    }
   ],
   "source": [
    "# The response dictionary is nested under one entry `dataset`\n",
    "for key, value in response[\"dataset\"].items():\n",
    "    print(f\"{key} |===> {value}\\n\")"
   ]
  },
  {
   "cell_type": "code",
   "execution_count": 7,
   "metadata": {},
   "outputs": [
    {
     "name": "stdout",
     "output_type": "stream",
     "text": [
      "{\n",
      "   \"dataset\": {\n",
      "      \"id\": 34650752,\n",
      "      \"dataset_code\": \"HPPU50_BC\",\n",
      "      \"database_code\": \"CMHC\",\n",
      "      \"name\": \"Average, Median and Price Percentiles for Unabsorbed Homeowner and Condominium Units (Provinces) - British Columbia\",\n",
      "      \"description\": \"Average, Median and Price Percentiles for Unabsorbed Homeowner and Condominium Units (Provinces). For more information, please see <a href=https://www03.cmhc-schl.gc.ca/hmip-pimh/en/TableMapChart/ScsMasMethodology>https://www03.cmhc-schl.gc.ca/hmip-pimh/en/TableMapChart/ScsMasMethodology</a>\",\n",
      "      \"refreshed_at\": \"2021-01-01T03:25:42.027Z\",\n",
      "      \"newest_available_date\": \"2020-11-30\",\n",
      "      \"oldest_available_date\": \"1990-01-31\",\n",
      "      \"column_names\": [\n",
      "         \"Date\",\n",
      "         \"1st 20%\",\n",
      "         \"2nd 40%\",\n",
      "         \"3rd 60%\",\n",
      "         \"4th 80%\",\n",
      "         \"Median\",\n",
      "         \"Average\",\n",
      "         \"Units\"\n",
      "      ],\n",
      "      \"frequency\": \"monthly\",\n",
      "      \"type\": \"Time Series\",\n",
      "      \"premium\": false,\n",
      "      \"limit\": null,\n",
      "      \"transform\": null,\n",
      "      \"column_index\": null,\n",
      "      \"start_date\": \"2020-11-30\",\n",
      "      \"end_date\": \"2020-11-30\",\n",
      "      \"data\": [\n",
      "         [\n",
      "            \"2020-11-30\",\n",
      "            870000.0,\n",
      "            1245000.0,\n",
      "            1640000.0,\n",
      "            2542000.0,\n",
      "            1450000.0,\n",
      "            1924937.0,\n",
      "            1051.0\n",
      "         ]\n",
      "      ],\n",
      "      \"collapse\": null,\n",
      "      \"order\": null,\n",
      "      \"database_id\": 234\n",
      "   }\n",
      "}\n"
     ]
    }
   ],
   "source": [
    "# json.dumps is a convenient method for printing dict/json objects\n",
    "print(json.dumps(response, indent=3))"
   ]
  },
  {
   "cell_type": "code",
   "execution_count": 8,
   "metadata": {},
   "outputs": [
    {
     "data": {
      "text/plain": [
       "'2020-11-30'"
      ]
     },
     "execution_count": 8,
     "metadata": {},
     "output_type": "execute_result"
    }
   ],
   "source": [
    "# Access the first element of the first list inside `data`.\n",
    "response[\"dataset\"][\"data\"][0][0]"
   ]
  },
  {
   "cell_type": "code",
   "execution_count": 9,
   "metadata": {},
   "outputs": [
    {
     "data": {
      "text/plain": [
       "870000.0"
      ]
     },
     "execution_count": 9,
     "metadata": {},
     "output_type": "execute_result"
    }
   ],
   "source": [
    "# Access the second element of the first list inside `data`.\n",
    "response[\"dataset\"][\"data\"][0][1]"
   ]
  },
  {
   "cell_type": "code",
   "execution_count": 10,
   "metadata": {},
   "outputs": [],
   "source": [
    "# Create a Pandas Dataframe from `response`\n",
    "\n",
    "# Get list of column names\n",
    "column_names = response[\"dataset\"][\"column_names\"]\n",
    "\n",
    "housing_df = pd.DataFrame(data=response[\"dataset\"][\"data\"][0])\n",
    "housing_df = housing_df.T\n",
    "housing_df.columns = column_names\n"
   ]
  },
  {
   "cell_type": "code",
   "execution_count": 11,
   "metadata": {},
   "outputs": [
    {
     "data": {
      "text/html": [
       "<div>\n",
       "<style scoped>\n",
       "    .dataframe tbody tr th:only-of-type {\n",
       "        vertical-align: middle;\n",
       "    }\n",
       "\n",
       "    .dataframe tbody tr th {\n",
       "        vertical-align: top;\n",
       "    }\n",
       "\n",
       "    .dataframe thead th {\n",
       "        text-align: right;\n",
       "    }\n",
       "</style>\n",
       "<table border=\"1\" class=\"dataframe\">\n",
       "  <thead>\n",
       "    <tr style=\"text-align: right;\">\n",
       "      <th></th>\n",
       "      <th>Date</th>\n",
       "      <th>1st 20%</th>\n",
       "      <th>2nd 40%</th>\n",
       "      <th>3rd 60%</th>\n",
       "      <th>4th 80%</th>\n",
       "      <th>Median</th>\n",
       "      <th>Average</th>\n",
       "      <th>Units</th>\n",
       "    </tr>\n",
       "  </thead>\n",
       "  <tbody>\n",
       "    <tr>\n",
       "      <th>0</th>\n",
       "      <td>2020-11-30</td>\n",
       "      <td>870000</td>\n",
       "      <td>1.245e+06</td>\n",
       "      <td>1.64e+06</td>\n",
       "      <td>2.542e+06</td>\n",
       "      <td>1.45e+06</td>\n",
       "      <td>1.92494e+06</td>\n",
       "      <td>1051</td>\n",
       "    </tr>\n",
       "  </tbody>\n",
       "</table>\n",
       "</div>"
      ],
      "text/plain": [
       "         Date 1st 20%    2nd 40%   3rd 60%    4th 80%    Median      Average  \\\n",
       "0  2020-11-30  870000  1.245e+06  1.64e+06  2.542e+06  1.45e+06  1.92494e+06   \n",
       "\n",
       "  Units  \n",
       "0  1051  "
      ]
     },
     "execution_count": 11,
     "metadata": {},
     "output_type": "execute_result"
    }
   ],
   "source": [
    "# Show DataFrame\n",
    "housing_df\n"
   ]
  },
  {
   "cell_type": "code",
   "execution_count": null,
   "metadata": {},
   "outputs": [],
   "source": []
  }
 ],
 "metadata": {
  "kernelspec": {
   "display_name": "Python 3",
   "language": "python",
   "name": "python3"
  },
  "language_info": {
   "codemirror_mode": {
    "name": "ipython",
    "version": 3
   },
   "file_extension": ".py",
   "mimetype": "text/x-python",
   "name": "python",
   "nbconvert_exporter": "python",
   "pygments_lexer": "ipython3",
   "version": "3.7.3"
  }
 },
 "nbformat": 4,
 "nbformat_minor": 4
}

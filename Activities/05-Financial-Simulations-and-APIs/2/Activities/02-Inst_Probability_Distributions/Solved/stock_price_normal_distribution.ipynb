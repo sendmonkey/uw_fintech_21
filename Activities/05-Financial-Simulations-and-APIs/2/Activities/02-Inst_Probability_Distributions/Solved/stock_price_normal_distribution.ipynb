{
 "cells": [
  {
   "cell_type": "markdown",
   "metadata": {},
   "source": [
    "# Demo: Normal Distribution of Stock Ticker Data\n",
    "\n",
    "This program retrieves stock price data using the Alpaca API and plots the data using Pandas. These plots demonstrate the distribution of daily stock closing prices compared to the expected normal probability distribution. "
   ]
  },
  {
   "cell_type": "markdown",
   "metadata": {},
   "source": [
    "## Import Dependencies"
   ]
  },
  {
   "cell_type": "code",
   "execution_count": 1,
   "metadata": {
    "tags": []
   },
   "outputs": [],
   "source": [
    "# Import libraries and dependencies\n",
    "import os\n",
    "import pandas as pd\n",
    "import alpaca_trade_api as tradeapi\n",
    "\n",
    "# Load .env environment variables\n",
    "from dotenv import load_dotenv\n",
    "load_dotenv()\n",
    "\n",
    "%matplotlib inline"
   ]
  },
  {
   "cell_type": "code",
   "execution_count": 2,
   "metadata": {
    "tags": []
   },
   "outputs": [],
   "source": [
    "# Set Alpaca API key and secret\n",
    "alpaca_api_key = os.getenv(\"ALPACA_API_KEY\")\n",
    "alpaca_secret_key = os.getenv(\"ALPACA_SECRET_KEY\")\n",
    "\n",
    "# Create the Alpaca API object\n",
    "alpaca = tradeapi.REST(\n",
    "    alpaca_api_key,\n",
    "    alpaca_secret_key,\n",
    "    api_version=\"v2\"\n",
    ")"
   ]
  },
  {
   "cell_type": "markdown",
   "metadata": {},
   "source": [
    "## Get 1 Year's Worth of Stock Price Data via Alpaca API Call and Read in as DataFrame "
   ]
  },
  {
   "cell_type": "code",
   "execution_count": 3,
   "metadata": {},
   "outputs": [
    {
     "data": {
      "text/html": [
       "<div>\n",
       "<style scoped>\n",
       "    .dataframe tbody tr th:only-of-type {\n",
       "        vertical-align: middle;\n",
       "    }\n",
       "\n",
       "    .dataframe tbody tr th {\n",
       "        vertical-align: top;\n",
       "    }\n",
       "\n",
       "    .dataframe thead tr th {\n",
       "        text-align: left;\n",
       "    }\n",
       "\n",
       "    .dataframe thead tr:last-of-type th {\n",
       "        text-align: right;\n",
       "    }\n",
       "</style>\n",
       "<table border=\"1\" class=\"dataframe\">\n",
       "  <thead>\n",
       "    <tr>\n",
       "      <th></th>\n",
       "      <th colspan=\"5\" halign=\"left\">AMZN</th>\n",
       "      <th colspan=\"5\" halign=\"left\">IBM</th>\n",
       "    </tr>\n",
       "    <tr>\n",
       "      <th></th>\n",
       "      <th>open</th>\n",
       "      <th>high</th>\n",
       "      <th>low</th>\n",
       "      <th>close</th>\n",
       "      <th>volume</th>\n",
       "      <th>open</th>\n",
       "      <th>high</th>\n",
       "      <th>low</th>\n",
       "      <th>close</th>\n",
       "      <th>volume</th>\n",
       "    </tr>\n",
       "    <tr>\n",
       "      <th>time</th>\n",
       "      <th></th>\n",
       "      <th></th>\n",
       "      <th></th>\n",
       "      <th></th>\n",
       "      <th></th>\n",
       "      <th></th>\n",
       "      <th></th>\n",
       "      <th></th>\n",
       "      <th></th>\n",
       "      <th></th>\n",
       "    </tr>\n",
       "  </thead>\n",
       "  <tbody>\n",
       "    <tr>\n",
       "      <th>2019-05-01 00:00:00-04:00</th>\n",
       "      <td>1933.09</td>\n",
       "      <td>1943.6400</td>\n",
       "      <td>1910.5500</td>\n",
       "      <td>1911.29</td>\n",
       "      <td>2814558</td>\n",
       "      <td>140.55</td>\n",
       "      <td>141.8100</td>\n",
       "      <td>140.17</td>\n",
       "      <td>140.5700</td>\n",
       "      <td>2599918</td>\n",
       "    </tr>\n",
       "    <tr>\n",
       "      <th>2019-05-02 00:00:00-04:00</th>\n",
       "      <td>1913.33</td>\n",
       "      <td>1921.5500</td>\n",
       "      <td>1881.8700</td>\n",
       "      <td>1901.72</td>\n",
       "      <td>3641665</td>\n",
       "      <td>140.50</td>\n",
       "      <td>141.2800</td>\n",
       "      <td>139.41</td>\n",
       "      <td>139.6400</td>\n",
       "      <td>2729143</td>\n",
       "    </tr>\n",
       "    <tr>\n",
       "      <th>2019-05-03 00:00:00-04:00</th>\n",
       "      <td>1949.00</td>\n",
       "      <td>1964.4000</td>\n",
       "      <td>1936.0000</td>\n",
       "      <td>1961.76</td>\n",
       "      <td>5687567</td>\n",
       "      <td>139.70</td>\n",
       "      <td>141.0000</td>\n",
       "      <td>139.63</td>\n",
       "      <td>140.2800</td>\n",
       "      <td>1967352</td>\n",
       "    </tr>\n",
       "    <tr>\n",
       "      <th>2019-05-06 00:00:00-04:00</th>\n",
       "      <td>1917.98</td>\n",
       "      <td>1959.0000</td>\n",
       "      <td>1910.5000</td>\n",
       "      <td>1950.29</td>\n",
       "      <td>4911645</td>\n",
       "      <td>138.30</td>\n",
       "      <td>140.6900</td>\n",
       "      <td>137.90</td>\n",
       "      <td>140.4000</td>\n",
       "      <td>2198347</td>\n",
       "    </tr>\n",
       "    <tr>\n",
       "      <th>2019-05-07 00:00:00-04:00</th>\n",
       "      <td>1939.99</td>\n",
       "      <td>1949.1005</td>\n",
       "      <td>1903.3795</td>\n",
       "      <td>1922.58</td>\n",
       "      <td>5451477</td>\n",
       "      <td>139.15</td>\n",
       "      <td>139.5100</td>\n",
       "      <td>136.19</td>\n",
       "      <td>137.6200</td>\n",
       "      <td>4056178</td>\n",
       "    </tr>\n",
       "    <tr>\n",
       "      <th>2019-05-08 00:00:00-04:00</th>\n",
       "      <td>1918.87</td>\n",
       "      <td>1935.3700</td>\n",
       "      <td>1910.0000</td>\n",
       "      <td>1916.85</td>\n",
       "      <td>3650183</td>\n",
       "      <td>137.77</td>\n",
       "      <td>138.7000</td>\n",
       "      <td>137.13</td>\n",
       "      <td>138.0000</td>\n",
       "      <td>2821862</td>\n",
       "    </tr>\n",
       "    <tr>\n",
       "      <th>2019-05-09 00:00:00-04:00</th>\n",
       "      <td>1900.98</td>\n",
       "      <td>1909.4000</td>\n",
       "      <td>1876.0000</td>\n",
       "      <td>1900.01</td>\n",
       "      <td>4928658</td>\n",
       "      <td>134.89</td>\n",
       "      <td>135.5848</td>\n",
       "      <td>133.03</td>\n",
       "      <td>135.3295</td>\n",
       "      <td>3234633</td>\n",
       "    </tr>\n",
       "    <tr>\n",
       "      <th>2019-05-10 00:00:00-04:00</th>\n",
       "      <td>1898.00</td>\n",
       "      <td>1903.7900</td>\n",
       "      <td>1856.0000</td>\n",
       "      <td>1889.98</td>\n",
       "      <td>5355441</td>\n",
       "      <td>134.88</td>\n",
       "      <td>135.7500</td>\n",
       "      <td>132.42</td>\n",
       "      <td>135.3400</td>\n",
       "      <td>3404234</td>\n",
       "    </tr>\n",
       "    <tr>\n",
       "      <th>2019-05-13 00:00:00-04:00</th>\n",
       "      <td>1837.11</td>\n",
       "      <td>1846.5350</td>\n",
       "      <td>1818.0000</td>\n",
       "      <td>1822.62</td>\n",
       "      <td>5312153</td>\n",
       "      <td>133.28</td>\n",
       "      <td>133.5700</td>\n",
       "      <td>130.96</td>\n",
       "      <td>131.4050</td>\n",
       "      <td>3593432</td>\n",
       "    </tr>\n",
       "    <tr>\n",
       "      <th>2019-05-14 00:00:00-04:00</th>\n",
       "      <td>1839.90</td>\n",
       "      <td>1852.4400</td>\n",
       "      <td>1815.7500</td>\n",
       "      <td>1840.05</td>\n",
       "      <td>4179780</td>\n",
       "      <td>131.82</td>\n",
       "      <td>134.3200</td>\n",
       "      <td>131.68</td>\n",
       "      <td>133.3400</td>\n",
       "      <td>2781032</td>\n",
       "    </tr>\n",
       "  </tbody>\n",
       "</table>\n",
       "</div>"
      ],
      "text/plain": [
       "                              AMZN                                          \\\n",
       "                              open       high        low    close   volume   \n",
       "time                                                                         \n",
       "2019-05-01 00:00:00-04:00  1933.09  1943.6400  1910.5500  1911.29  2814558   \n",
       "2019-05-02 00:00:00-04:00  1913.33  1921.5500  1881.8700  1901.72  3641665   \n",
       "2019-05-03 00:00:00-04:00  1949.00  1964.4000  1936.0000  1961.76  5687567   \n",
       "2019-05-06 00:00:00-04:00  1917.98  1959.0000  1910.5000  1950.29  4911645   \n",
       "2019-05-07 00:00:00-04:00  1939.99  1949.1005  1903.3795  1922.58  5451477   \n",
       "2019-05-08 00:00:00-04:00  1918.87  1935.3700  1910.0000  1916.85  3650183   \n",
       "2019-05-09 00:00:00-04:00  1900.98  1909.4000  1876.0000  1900.01  4928658   \n",
       "2019-05-10 00:00:00-04:00  1898.00  1903.7900  1856.0000  1889.98  5355441   \n",
       "2019-05-13 00:00:00-04:00  1837.11  1846.5350  1818.0000  1822.62  5312153   \n",
       "2019-05-14 00:00:00-04:00  1839.90  1852.4400  1815.7500  1840.05  4179780   \n",
       "\n",
       "                              IBM                                       \n",
       "                             open      high     low     close   volume  \n",
       "time                                                                    \n",
       "2019-05-01 00:00:00-04:00  140.55  141.8100  140.17  140.5700  2599918  \n",
       "2019-05-02 00:00:00-04:00  140.50  141.2800  139.41  139.6400  2729143  \n",
       "2019-05-03 00:00:00-04:00  139.70  141.0000  139.63  140.2800  1967352  \n",
       "2019-05-06 00:00:00-04:00  138.30  140.6900  137.90  140.4000  2198347  \n",
       "2019-05-07 00:00:00-04:00  139.15  139.5100  136.19  137.6200  4056178  \n",
       "2019-05-08 00:00:00-04:00  137.77  138.7000  137.13  138.0000  2821862  \n",
       "2019-05-09 00:00:00-04:00  134.89  135.5848  133.03  135.3295  3234633  \n",
       "2019-05-10 00:00:00-04:00  134.88  135.7500  132.42  135.3400  3404234  \n",
       "2019-05-13 00:00:00-04:00  133.28  133.5700  130.96  131.4050  3593432  \n",
       "2019-05-14 00:00:00-04:00  131.82  134.3200  131.68  133.3400  2781032  "
      ]
     },
     "execution_count": 3,
     "metadata": {},
     "output_type": "execute_result"
    }
   ],
   "source": [
    "# Set the IBM and Amazon tickers\n",
    "ticker = [\"IBM\",\"AMZN\"]\n",
    "\n",
    "# Set timeframe to '1D'\n",
    "timeframe = \"1D\"\n",
    "\n",
    "# Set start and end datetimes of 1 year, between now and 365 days ago.\n",
    "start_date = pd.Timestamp(\"2019-05-01\", tz=\"America/New_York\").isoformat()\n",
    "end_date = pd.Timestamp(\"2020-05-01\", tz=\"America/New_York\").isoformat()\n",
    "\n",
    "# Set limit_rows to 1000 to retreive the maximum amount of rows\n",
    "limit_rows = 1000\n",
    "\n",
    "# Get 1 year's worth of historical data for IBM and Amazon\n",
    "df_ticker = alpaca.get_barset(\n",
    "    ticker,\n",
    "    timeframe,\n",
    "    start=start_date,\n",
    "    end=end_date,\n",
    "    limit=limit_rows\n",
    ").df\n",
    "\n",
    "# Display sample data\n",
    "df_ticker.head(10)"
   ]
  },
  {
   "cell_type": "markdown",
   "metadata": {},
   "source": [
    "## Pick closing prices and compute the daily returns"
   ]
  },
  {
   "cell_type": "code",
   "execution_count": 4,
   "metadata": {},
   "outputs": [
    {
     "data": {
      "text/html": [
       "<div>\n",
       "<style scoped>\n",
       "    .dataframe tbody tr th:only-of-type {\n",
       "        vertical-align: middle;\n",
       "    }\n",
       "\n",
       "    .dataframe tbody tr th {\n",
       "        vertical-align: top;\n",
       "    }\n",
       "\n",
       "    .dataframe thead th {\n",
       "        text-align: right;\n",
       "    }\n",
       "</style>\n",
       "<table border=\"1\" class=\"dataframe\">\n",
       "  <thead>\n",
       "    <tr style=\"text-align: right;\">\n",
       "      <th></th>\n",
       "      <th>AMZN</th>\n",
       "      <th>IBM</th>\n",
       "    </tr>\n",
       "  </thead>\n",
       "  <tbody>\n",
       "    <tr>\n",
       "      <th>2019-05-02</th>\n",
       "      <td>-0.005007</td>\n",
       "      <td>-0.006616</td>\n",
       "    </tr>\n",
       "    <tr>\n",
       "      <th>2019-05-03</th>\n",
       "      <td>0.031571</td>\n",
       "      <td>0.004583</td>\n",
       "    </tr>\n",
       "    <tr>\n",
       "      <th>2019-05-06</th>\n",
       "      <td>-0.005847</td>\n",
       "      <td>0.000855</td>\n",
       "    </tr>\n",
       "    <tr>\n",
       "      <th>2019-05-07</th>\n",
       "      <td>-0.014208</td>\n",
       "      <td>-0.019801</td>\n",
       "    </tr>\n",
       "    <tr>\n",
       "      <th>2019-05-08</th>\n",
       "      <td>-0.002980</td>\n",
       "      <td>0.002761</td>\n",
       "    </tr>\n",
       "    <tr>\n",
       "      <th>2019-05-09</th>\n",
       "      <td>-0.008785</td>\n",
       "      <td>-0.019351</td>\n",
       "    </tr>\n",
       "    <tr>\n",
       "      <th>2019-05-10</th>\n",
       "      <td>-0.005279</td>\n",
       "      <td>0.000078</td>\n",
       "    </tr>\n",
       "    <tr>\n",
       "      <th>2019-05-13</th>\n",
       "      <td>-0.035641</td>\n",
       "      <td>-0.029075</td>\n",
       "    </tr>\n",
       "    <tr>\n",
       "      <th>2019-05-14</th>\n",
       "      <td>0.009563</td>\n",
       "      <td>0.014725</td>\n",
       "    </tr>\n",
       "    <tr>\n",
       "      <th>2019-05-15</th>\n",
       "      <td>0.016885</td>\n",
       "      <td>0.008025</td>\n",
       "    </tr>\n",
       "  </tbody>\n",
       "</table>\n",
       "</div>"
      ],
      "text/plain": [
       "                AMZN       IBM\n",
       "2019-05-02 -0.005007 -0.006616\n",
       "2019-05-03  0.031571  0.004583\n",
       "2019-05-06 -0.005847  0.000855\n",
       "2019-05-07 -0.014208 -0.019801\n",
       "2019-05-08 -0.002980  0.002761\n",
       "2019-05-09 -0.008785 -0.019351\n",
       "2019-05-10 -0.005279  0.000078\n",
       "2019-05-13 -0.035641 -0.029075\n",
       "2019-05-14  0.009563  0.014725\n",
       "2019-05-15  0.016885  0.008025"
      ]
     },
     "execution_count": 4,
     "metadata": {},
     "output_type": "execute_result"
    }
   ],
   "source": [
    "# Create and empty DataFrame for closing prices\n",
    "df_closing_prices = pd.DataFrame()\n",
    "\n",
    "# Fetch the closing prices of AMZN and IBM\n",
    "df_closing_prices[\"AMZN\"] = df_ticker[\"AMZN\"][\"close\"]\n",
    "df_closing_prices[\"IBM\"] = df_ticker[\"IBM\"][\"close\"]\n",
    "\n",
    "# Drop the time component of the date\n",
    "df_closing_prices.index = df_closing_prices.index.date\n",
    "\n",
    "# Compute daily returns\n",
    "df_daily_returns = df_closing_prices.pct_change().dropna()\n",
    "\n",
    "# Display sample data\n",
    "df_daily_returns.head(10)"
   ]
  },
  {
   "cell_type": "code",
   "execution_count": 5,
   "metadata": {},
   "outputs": [
    {
     "data": {
      "text/html": [
       "<div>\n",
       "<style scoped>\n",
       "    .dataframe tbody tr th:only-of-type {\n",
       "        vertical-align: middle;\n",
       "    }\n",
       "\n",
       "    .dataframe tbody tr th {\n",
       "        vertical-align: top;\n",
       "    }\n",
       "\n",
       "    .dataframe thead th {\n",
       "        text-align: right;\n",
       "    }\n",
       "</style>\n",
       "<table border=\"1\" class=\"dataframe\">\n",
       "  <thead>\n",
       "    <tr style=\"text-align: right;\">\n",
       "      <th></th>\n",
       "      <th>AMZN</th>\n",
       "      <th>IBM</th>\n",
       "    </tr>\n",
       "  </thead>\n",
       "  <tbody>\n",
       "    <tr>\n",
       "      <th>count</th>\n",
       "      <td>253.000000</td>\n",
       "      <td>253.000000</td>\n",
       "    </tr>\n",
       "    <tr>\n",
       "      <th>mean</th>\n",
       "      <td>0.000906</td>\n",
       "      <td>-0.000287</td>\n",
       "    </tr>\n",
       "    <tr>\n",
       "      <th>std</th>\n",
       "      <td>0.019980</td>\n",
       "      <td>0.023596</td>\n",
       "    </tr>\n",
       "    <tr>\n",
       "      <th>min</th>\n",
       "      <td>-0.078818</td>\n",
       "      <td>-0.128507</td>\n",
       "    </tr>\n",
       "    <tr>\n",
       "      <th>25%</th>\n",
       "      <td>-0.008201</td>\n",
       "      <td>-0.008607</td>\n",
       "    </tr>\n",
       "    <tr>\n",
       "      <th>50%</th>\n",
       "      <td>0.000708</td>\n",
       "      <td>0.000595</td>\n",
       "    </tr>\n",
       "    <tr>\n",
       "      <th>75%</th>\n",
       "      <td>0.008786</td>\n",
       "      <td>0.009033</td>\n",
       "    </tr>\n",
       "    <tr>\n",
       "      <th>max</th>\n",
       "      <td>0.073153</td>\n",
       "      <td>0.112612</td>\n",
       "    </tr>\n",
       "  </tbody>\n",
       "</table>\n",
       "</div>"
      ],
      "text/plain": [
       "             AMZN         IBM\n",
       "count  253.000000  253.000000\n",
       "mean     0.000906   -0.000287\n",
       "std      0.019980    0.023596\n",
       "min     -0.078818   -0.128507\n",
       "25%     -0.008201   -0.008607\n",
       "50%      0.000708    0.000595\n",
       "75%      0.008786    0.009033\n",
       "max      0.073153    0.112612"
      ]
     },
     "execution_count": 5,
     "metadata": {},
     "output_type": "execute_result"
    }
   ],
   "source": [
    "# Generate descriptive statistics\n",
    "df_daily_returns.describe()"
   ]
  },
  {
   "cell_type": "markdown",
   "metadata": {},
   "source": [
    "### Plot Distributions"
   ]
  },
  {
   "cell_type": "code",
   "execution_count": 6,
   "metadata": {},
   "outputs": [
    {
     "data": {
      "text/plain": [
       "<AxesSubplot:ylabel='Frequency'>"
      ]
     },
     "execution_count": 6,
     "metadata": {},
     "output_type": "execute_result"
    },
    {
     "data": {
      "image/png": "[encoded data removed]",
      "text/plain": [
       "<Figure size 432x288 with 1 Axes>"
      ]
     },
     "metadata": {
      "needs_background": "light"
     },
     "output_type": "display_data"
    }
   ],
   "source": [
    "# Visualize distribution of IBM percent change in closing price using a histogram plot\n",
    "df_daily_returns[\"IBM\"].plot.hist()"
   ]
  },
  {
   "cell_type": "code",
   "execution_count": 7,
   "metadata": {},
   "outputs": [
    {
     "data": {
      "text/plain": [
       "<AxesSubplot:ylabel='Frequency'>"
      ]
     },
     "execution_count": 7,
     "metadata": {},
     "output_type": "execute_result"
    },
    {
     "data": {
      "image/png": "[encoded data removed]",
      "text/plain": [
       "<Figure size 432x288 with 1 Axes>"
      ]
     },
     "metadata": {
      "needs_background": "light"
     },
     "output_type": "display_data"
    }
   ],
   "source": [
    "# Visualize distribution of Amazon percent change in closing price using a histogram plot\n",
    "df_daily_returns[\"AMZN\"].plot.hist()"
   ]
  },
  {
   "cell_type": "code",
   "execution_count": 8,
   "metadata": {},
   "outputs": [
    {
     "data": {
      "text/plain": [
       "<AxesSubplot:ylabel='Density'>"
      ]
     },
     "execution_count": 8,
     "metadata": {},
     "output_type": "execute_result"
    },
    {
     "data": {
      "image/png": "[encoded data removed]",
      "text/plain": [
       "<Figure size 432x288 with 1 Axes>"
      ]
     },
     "metadata": {
      "needs_background": "light"
     },
     "output_type": "display_data"
    }
   ],
   "source": [
    "# Visualize the distribution of percent change in closing price for both stocks using a density plot\n",
    "df_daily_returns.plot.density()"
   ]
  }
 ],
 "metadata": {
  "kernel_info": {
   "name": "python3"
  },
  "kernelspec": {
   "display_name": "Python 3",
   "language": "python",
   "name": "python3"
  },
  "language_info": {
   "codemirror_mode": {
    "name": "ipython",
    "version": 3
   },
   "file_extension": ".py",
   "mimetype": "text/x-python",
   "name": "python",
   "nbconvert_exporter": "python",
   "pygments_lexer": "ipython3",
   "version": "3.7.3"
  },
  "nteract": {
   "version": "0.12.3"
  }
 },
 "nbformat": 4,
 "nbformat_minor": 4
}

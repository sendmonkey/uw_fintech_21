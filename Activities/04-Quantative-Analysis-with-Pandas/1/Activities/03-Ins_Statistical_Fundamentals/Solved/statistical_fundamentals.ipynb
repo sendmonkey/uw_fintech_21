{
 "cells": [
  {
   "cell_type": "code",
   "execution_count": 1,
   "metadata": {},
   "outputs": [],
   "source": [
    "# Import Modules\n",
    "import pandas as pd\n",
    "from pathlib import Path\n"
   ]
  },
  {
   "cell_type": "code",
   "execution_count": 2,
   "metadata": {},
   "outputs": [],
   "source": [
    "# Set paths to csv files\n",
    "tsla_csv_path = Path(\"../Resources/tsla.csv\")\n",
    "sp500_path = Path(\"../Resources/sp500.csv\")"
   ]
  },
  {
   "cell_type": "code",
   "execution_count": 3,
   "metadata": {},
   "outputs": [],
   "source": [
    "# Read in csv files\n",
    "tsla_df = pd.read_csv(\n",
    "    tsla_csv_path, \n",
    "    index_col=\"date\", \n",
    "    infer_datetime_format=True, \n",
    "    parse_dates=True\n",
    ")\n",
    "\n",
    "sp500_df = pd.read_csv(\n",
    "    sp500_path, \n",
    "    index_col=\"date\", \n",
    "    infer_datetime_format=True, \n",
    "    parse_dates=True\n",
    ")\n"
   ]
  },
  {
   "cell_type": "code",
   "execution_count": 4,
   "metadata": {},
   "outputs": [],
   "source": [
    "# Calculate the daily percent changes and drop n/a values\n",
    "tsla_df[\"pct_change\"] = tsla_df[\"close\"].pct_change()\n",
    "tsla_df = tsla_df.dropna()"
   ]
  },
  {
   "cell_type": "code",
   "execution_count": 5,
   "metadata": {},
   "outputs": [
    {
     "data": {
      "text/html": [
       "<div>\n",
       "<style scoped>\n",
       "    .dataframe tbody tr th:only-of-type {\n",
       "        vertical-align: middle;\n",
       "    }\n",
       "\n",
       "    .dataframe tbody tr th {\n",
       "        vertical-align: top;\n",
       "    }\n",
       "\n",
       "    .dataframe thead th {\n",
       "        text-align: right;\n",
       "    }\n",
       "</style>\n",
       "<table border=\"1\" class=\"dataframe\">\n",
       "  <thead>\n",
       "    <tr style=\"text-align: right;\">\n",
       "      <th></th>\n",
       "      <th>close</th>\n",
       "      <th>pct_change</th>\n",
       "    </tr>\n",
       "    <tr>\n",
       "      <th>date</th>\n",
       "      <th></th>\n",
       "      <th></th>\n",
       "    </tr>\n",
       "  </thead>\n",
       "  <tbody>\n",
       "    <tr>\n",
       "      <th>2014-05-21</th>\n",
       "      <td>199.45</td>\n",
       "      <td>0.021249</td>\n",
       "    </tr>\n",
       "    <tr>\n",
       "      <th>2014-05-22</th>\n",
       "      <td>204.88</td>\n",
       "      <td>0.027225</td>\n",
       "    </tr>\n",
       "    <tr>\n",
       "      <th>2014-05-23</th>\n",
       "      <td>207.30</td>\n",
       "      <td>0.011812</td>\n",
       "    </tr>\n",
       "    <tr>\n",
       "      <th>2014-05-27</th>\n",
       "      <td>211.56</td>\n",
       "      <td>0.020550</td>\n",
       "    </tr>\n",
       "    <tr>\n",
       "      <th>2014-05-28</th>\n",
       "      <td>210.24</td>\n",
       "      <td>-0.006239</td>\n",
       "    </tr>\n",
       "  </tbody>\n",
       "</table>\n",
       "</div>"
      ],
      "text/plain": [
       "             close  pct_change\n",
       "date                          \n",
       "2014-05-21  199.45    0.021249\n",
       "2014-05-22  204.88    0.027225\n",
       "2014-05-23  207.30    0.011812\n",
       "2014-05-27  211.56    0.020550\n",
       "2014-05-28  210.24   -0.006239"
      ]
     },
     "execution_count": 5,
     "metadata": {},
     "output_type": "execute_result"
    }
   ],
   "source": [
    "# Preview the data\n",
    "tsla_df.head()"
   ]
  },
  {
   "cell_type": "code",
   "execution_count": 6,
   "metadata": {},
   "outputs": [],
   "source": [
    "# Calculate the daily percent changes and drop n/a values\n",
    "sp500_df[\"pct_change\"] = sp500_df[\"close\"].pct_change()\n",
    "sp500_df = sp500_df.dropna()"
   ]
  },
  {
   "cell_type": "code",
   "execution_count": 7,
   "metadata": {},
   "outputs": [
    {
     "data": {
      "text/html": [
       "<div>\n",
       "<style scoped>\n",
       "    .dataframe tbody tr th:only-of-type {\n",
       "        vertical-align: middle;\n",
       "    }\n",
       "\n",
       "    .dataframe tbody tr th {\n",
       "        vertical-align: top;\n",
       "    }\n",
       "\n",
       "    .dataframe thead th {\n",
       "        text-align: right;\n",
       "    }\n",
       "</style>\n",
       "<table border=\"1\" class=\"dataframe\">\n",
       "  <thead>\n",
       "    <tr style=\"text-align: right;\">\n",
       "      <th></th>\n",
       "      <th>close</th>\n",
       "      <th>pct_change</th>\n",
       "    </tr>\n",
       "    <tr>\n",
       "      <th>date</th>\n",
       "      <th></th>\n",
       "      <th></th>\n",
       "    </tr>\n",
       "  </thead>\n",
       "  <tbody>\n",
       "    <tr>\n",
       "      <th>2014-05-21</th>\n",
       "      <td>1888.03</td>\n",
       "      <td>0.008116</td>\n",
       "    </tr>\n",
       "    <tr>\n",
       "      <th>2014-05-22</th>\n",
       "      <td>1892.49</td>\n",
       "      <td>0.002362</td>\n",
       "    </tr>\n",
       "    <tr>\n",
       "      <th>2014-05-23</th>\n",
       "      <td>1900.53</td>\n",
       "      <td>0.004248</td>\n",
       "    </tr>\n",
       "    <tr>\n",
       "      <th>2014-05-27</th>\n",
       "      <td>1911.91</td>\n",
       "      <td>0.005988</td>\n",
       "    </tr>\n",
       "    <tr>\n",
       "      <th>2014-05-28</th>\n",
       "      <td>1909.78</td>\n",
       "      <td>-0.001114</td>\n",
       "    </tr>\n",
       "  </tbody>\n",
       "</table>\n",
       "</div>"
      ],
      "text/plain": [
       "              close  pct_change\n",
       "date                           \n",
       "2014-05-21  1888.03    0.008116\n",
       "2014-05-22  1892.49    0.002362\n",
       "2014-05-23  1900.53    0.004248\n",
       "2014-05-27  1911.91    0.005988\n",
       "2014-05-28  1909.78   -0.001114"
      ]
     },
     "execution_count": 7,
     "metadata": {},
     "output_type": "execute_result"
    }
   ],
   "source": [
    "sp500_df.head()"
   ]
  },
  {
   "cell_type": "code",
   "execution_count": 8,
   "metadata": {},
   "outputs": [],
   "source": [
    "# Create a function named 'calculate_mean'.\n",
    "# We choose a function name that will not conflict with any modules that may have been imported.\n",
    "def calculate_mean(data_set):\n",
    "    sum = 0\n",
    "    length = 0\n",
    "    for value in data_set:\n",
    "        sum = sum + value\n",
    "        length = length + 1\n",
    "    return sum / length\n",
    "\n"
   ]
  },
  {
   "cell_type": "code",
   "execution_count": 9,
   "metadata": {},
   "outputs": [
    {
     "name": "stdout",
     "output_type": "stream",
     "text": [
      "0.0005143162010646481\n"
     ]
    }
   ],
   "source": [
    "# Calculate the mean for Tesla.\n",
    "tsla_mean = calculate_mean(tsla_df[\"pct_change\"])\n",
    "print(tsla_mean)"
   ]
  },
  {
   "cell_type": "code",
   "execution_count": 10,
   "metadata": {},
   "outputs": [
    {
     "data": {
      "text/plain": [
       "0.0005143162010646481"
      ]
     },
     "execution_count": 10,
     "metadata": {},
     "output_type": "execute_result"
    }
   ],
   "source": [
    "# Verify the calculated value with pandas mean() method\n",
    "tsla_df[\"pct_change\"].mean()"
   ]
  },
  {
   "cell_type": "code",
   "execution_count": 11,
   "metadata": {},
   "outputs": [],
   "source": [
    "# Create a function named 'calculate_variance'.\n",
    "# We choose a function name that will not conflict with any modules that may have been imported.\n",
    "# Variance is the squared average change around the mean\n",
    "# It should be noted that sample variance is also used.\n",
    "# It removes an element from the length of the dataset.\n",
    "# We square the difference between the value and the mean of the dataset each time because we don't\n",
    "# want negative values for variance. The reason is because we take the square root of variance for\n",
    "# standard deviation and this will introduce imaginary numbers.\n",
    "\n",
    "def calculate_variance(data_set):\n",
    "    sum = 0\n",
    "    length = 0\n",
    "    mean_value = calculate_mean(data_set)\n",
    "    for value in data_set:\n",
    "        sum = sum + (value - mean_value) ** 2\n",
    "        length = length + 1\n",
    "    return sum / (length - 1)\n",
    "\n"
   ]
  },
  {
   "cell_type": "code",
   "execution_count": 12,
   "metadata": {},
   "outputs": [
    {
     "name": "stdout",
     "output_type": "stream",
     "text": [
      "0.000756907117811057\n"
     ]
    }
   ],
   "source": [
    "# Calculate the variance for Tesla.\n",
    "tsla_var = calculate_variance(tsla_df[\"pct_change\"])\n",
    "print(tsla_var)"
   ]
  },
  {
   "cell_type": "code",
   "execution_count": 13,
   "metadata": {},
   "outputs": [
    {
     "data": {
      "text/plain": [
       "0.000756907117811057"
      ]
     },
     "execution_count": 13,
     "metadata": {},
     "output_type": "execute_result"
    }
   ],
   "source": [
    "# Verify the calculated value with pandas var() method\n",
    "tsla_df[\"pct_change\"].var()"
   ]
  },
  {
   "cell_type": "code",
   "execution_count": 14,
   "metadata": {},
   "outputs": [],
   "source": [
    "# Create a function named 'calculate_standard_deviation'.\n",
    "def calculate_standard_deviation(data_set):\n",
    "    return (calculate_variance(data_set)) ** (1 / 2)\n",
    "\n"
   ]
  },
  {
   "cell_type": "code",
   "execution_count": 15,
   "metadata": {},
   "outputs": [
    {
     "name": "stdout",
     "output_type": "stream",
     "text": [
      "0.027511945002326843\n"
     ]
    }
   ],
   "source": [
    "# Calculate the variance for Tesla.\n",
    "tsla_std = calculate_standard_deviation(tsla_df[\"pct_change\"])\n",
    "print(tsla_std)"
   ]
  },
  {
   "cell_type": "code",
   "execution_count": 16,
   "metadata": {},
   "outputs": [
    {
     "data": {
      "text/plain": [
       "0.027511945002326843"
      ]
     },
     "execution_count": 16,
     "metadata": {},
     "output_type": "execute_result"
    }
   ],
   "source": [
    "# Verify the calculated value with pandas std() method\n",
    "tsla_df[\"pct_change\"].std()"
   ]
  },
  {
   "cell_type": "code",
   "execution_count": 17,
   "metadata": {},
   "outputs": [],
   "source": [
    "# Create a function to check to most recent price against the mean price\n",
    "# to determine if the stock is overvalued.\n",
    "def check_value(current_price, mean_price):\n",
    "    if current_price > mean_price:\n",
    "        print(\"Overvalued\")\n",
    "    elif current_price < mean_price:\n",
    "        print(\"Undervalued\")\n",
    "    else:\n",
    "        print(\"Price is at mean value.\")\n",
    "\n"
   ]
  },
  {
   "cell_type": "code",
   "execution_count": 18,
   "metadata": {},
   "outputs": [],
   "source": [
    "# Get tesla's most recent value. We can use -1 to get the last element.\n",
    "tsla_recent_value = tsla_df[\"pct_change\"][-1]"
   ]
  },
  {
   "cell_type": "code",
   "execution_count": 19,
   "metadata": {},
   "outputs": [
    {
     "name": "stdout",
     "output_type": "stream",
     "text": [
      "Undervalued\n"
     ]
    }
   ],
   "source": [
    "# Check if tesla is overvalued or not\n",
    "check_value(tsla_recent_value, tsla_mean)"
   ]
  },
  {
   "cell_type": "code",
   "execution_count": 20,
   "metadata": {},
   "outputs": [],
   "source": [
    "# Calculate mean for sp500\n",
    "sp500_mean = calculate_mean(sp500_df[\"pct_change\"])"
   ]
  },
  {
   "cell_type": "code",
   "execution_count": 21,
   "metadata": {},
   "outputs": [],
   "source": [
    "# Get most recent value for sp500.\n",
    "sp500_recent_value = sp500_df[\"pct_change\"][-1]"
   ]
  },
  {
   "cell_type": "code",
   "execution_count": 22,
   "metadata": {},
   "outputs": [],
   "source": [
    "# Calculate the standard deviation for the sp500\n",
    "sp500_std = calculate_standard_deviation(sp500_df[\"pct_change\"])"
   ]
  },
  {
   "cell_type": "code",
   "execution_count": 23,
   "metadata": {},
   "outputs": [
    {
     "name": "stdout",
     "output_type": "stream",
     "text": [
      "Overvalued\n"
     ]
    }
   ],
   "source": [
    "# Check if the sp500 is overvalued or not\n",
    "check_value(sp500_recent_value, sp500_mean)"
   ]
  },
  {
   "cell_type": "code",
   "execution_count": 24,
   "metadata": {},
   "outputs": [],
   "source": [
    "# Create a function to compare the volatility with the underlying market\n",
    "def compare_volatility(stock_std, market_std):\n",
    "    if stock_std > market_std:\n",
    "        print(\"The stock is more volatile than the market.\")\n",
    "    else:\n",
    "        print(\"The stock is less volatile than the market.\")\n",
    "\n"
   ]
  },
  {
   "cell_type": "code",
   "execution_count": 25,
   "metadata": {},
   "outputs": [
    {
     "name": "stdout",
     "output_type": "stream",
     "text": [
      "The stock is more volatile than the market.\n"
     ]
    }
   ],
   "source": [
    "# Compare the volatility of tesla and the sp500\n",
    "compare_volatility(tsla_std, sp500_std)\n"
   ]
  }
 ],
 "metadata": {
  "kernelspec": {
   "display_name": "Python 3",
   "language": "python",
   "name": "python3"
  },
  "language_info": {
   "codemirror_mode": {
    "name": "ipython",
    "version": 3
   },
   "file_extension": ".py",
   "mimetype": "text/x-python",
   "name": "python",
   "nbconvert_exporter": "python",
   "pygments_lexer": "ipython3",
   "version": "3.7.3"
  }
 },
 "nbformat": 4,
 "nbformat_minor": 4
}
